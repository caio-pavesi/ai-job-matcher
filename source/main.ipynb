{
 "cells": [
  {
   "cell_type": "code",
   "execution_count": 89,
   "metadata": {},
   "outputs": [],
   "source": [
    "import ast\n",
    "\n",
    "import requests\n",
    "import pandas as pd\n",
    "\n",
    "from bs4 import BeautifulSoup\n",
    "\n",
    "from azure.ai.inference import ChatCompletionsClient\n",
    "from azure.core.credentials import AzureKeyCredential\n",
    "from azure.ai.inference.models import SystemMessage, UserMessage\n",
    "\n",
    "from settings import BASE_DIR, GITHUB_TOKEN"
   ]
  },
  {
   "cell_type": "markdown",
   "metadata": {},
   "source": [
    "# Step 1 Extracting all jobs"
   ]
  },
  {
   "cell_type": "code",
   "execution_count": 70,
   "metadata": {},
   "outputs": [],
   "source": [
    "FILTER = '&filterSearch=jobType_INTERNSHIP'"
   ]
  },
  {
   "cell_type": "code",
   "execution_count": 71,
   "metadata": {},
   "outputs": [],
   "source": [
    "response = requests.get(\n",
    "    url = (\n",
    "        'https://www.bmwgroup.jobs/'\n",
    "        'en/_jcr_content/main/layoutcontainer_5337/jobfinder30.jobfinder_table.content.html?'\n",
    "        'rowIndex=1'\n",
    "        '&blockCount=10' +\n",
    "        FILTER\n",
    "    )\n",
    ")"
   ]
  },
  {
   "cell_type": "code",
   "execution_count": 72,
   "metadata": {},
   "outputs": [],
   "source": [
    "html = response.content.decode('utf-8')"
   ]
  },
  {
   "cell_type": "code",
   "execution_count": 73,
   "metadata": {},
   "outputs": [],
   "source": [
    "soup = BeautifulSoup(html, 'html.parser')"
   ]
  },
  {
   "cell_type": "code",
   "execution_count": 74,
   "metadata": {},
   "outputs": [],
   "source": [
    "count = soup.find('div', class_ = 'grp-jobfinder__table').get('data-counter')"
   ]
  },
  {
   "cell_type": "code",
   "execution_count": 75,
   "metadata": {},
   "outputs": [
    {
     "data": {
      "text/plain": [
       "'866'"
      ]
     },
     "execution_count": 75,
     "metadata": {},
     "output_type": "execute_result"
    }
   ],
   "source": [
    "count"
   ]
  },
  {
   "cell_type": "code",
   "execution_count": 76,
   "metadata": {},
   "outputs": [],
   "source": [
    "jobs = list()\n",
    "for req in range(int(int(count) / 10)):\n",
    "    response = requests.get(\n",
    "        url = (\n",
    "            'https://www.bmwgroup.jobs/'\n",
    "            'en/_jcr_content/main/layoutcontainer_5337/jobfinder30.jobfinder_table.content.html?'\n",
    "            f'rowIndex={req * 10}'\n",
    "            '&blockCount=10' +\n",
    "            FILTER\n",
    "        )\n",
    "    )\n",
    "\n",
    "    html = response.content.decode('utf-8')\n",
    "\n",
    "    soup = BeautifulSoup(html, 'html.parser')\n",
    "\n",
    "    jobfider_wrapper = soup.find_all('div', class_='grp-jobfinder__wrapper')\n",
    "\n",
    "    for job in jobfider_wrapper:\n",
    "        jobs.append(\n",
    "            {\n",
    "                \"title\": job.find('a').get('aria-label'),\n",
    "                \"link\": 'https://www.bmwgroup.jobs' + job.find('a').get('href'),\n",
    "                \"field\": job.find('a').find('div', class_='grp-jobfinder-cell-refno').get('data-job-field'),\n",
    "                \"entity\": job.find('a').find('div', class_='grp-jobfinder-cell-refno').get('data-job-legal-entity'),\n",
    "                \"city\": job.find('a').find('div', class_='grp-jobfinder-cell-refno').get('data-job-location'),\n",
    "                \"type\": job.find('a').find('div', class_='grp-jobfinder-cell-refno').get('data-job-type')\n",
    "            }\n",
    "        )\n",
    "jobs = pd.DataFrame(jobs)"
   ]
  },
  {
   "cell_type": "markdown",
   "metadata": {},
   "source": [
    "# Step 2: Extracting all jobs descriptions"
   ]
  },
  {
   "cell_type": "code",
   "execution_count": 77,
   "metadata": {},
   "outputs": [],
   "source": [
    "descriptions = list()\n",
    "for index in jobs.index:\n",
    "    descriptions.append({\n",
    "        \"link\": jobs.loc[index, ('link')],\n",
    "        \"html\": requests.get(jobs.loc[index, ('link')]).content.decode('utf-8')\n",
    "    })\n",
    "\n",
    "descriptions = pd.DataFrame(descriptions)"
   ]
  },
  {
   "cell_type": "code",
   "execution_count": 78,
   "metadata": {},
   "outputs": [],
   "source": [
    "descriptions['html'] = (\n",
    "    descriptions['html']\n",
    "    .str.replace('\\n', '')\n",
    "    .str.replace('\\t', '')\n",
    "    .str.replace('\\r', '')\n",
    "    .str.replace('  ', '')\n",
    "    .str.strip()\n",
    ")"
   ]
  },
  {
   "cell_type": "code",
   "execution_count": 79,
   "metadata": {},
   "outputs": [],
   "source": [
    "job_descriptions = jobs.merge(\n",
    "    descriptions,\n",
    "    how = 'left',\n",
    "    on = 'link'\n",
    ")\n",
    "\n",
    "del jobs\n",
    "del descriptions"
   ]
  },
  {
   "cell_type": "code",
   "execution_count": 81,
   "metadata": {},
   "outputs": [],
   "source": [
    "job_descriptions.insert(\n",
    "    loc = len(job_descriptions.columns),\n",
    "    column = 'description',\n",
    "    value = job_descriptions.apply(\n",
    "        lambda row: (\n",
    "            BeautifulSoup(row[\"html\"], 'html.parser')\n",
    "            .find('div', class_='container-layout container no-top-spacing no-bottom-spacing')\n",
    "            .text\n",
    "        ),\n",
    "        axis = 1\n",
    "    )\n",
    ")"
   ]
  },
  {
   "cell_type": "markdown",
   "metadata": {},
   "source": [
    "# Step 3: Filtering the job keywords"
   ]
  },
  {
   "cell_type": "code",
   "execution_count": 93,
   "metadata": {},
   "outputs": [],
   "source": [
    "client = ChatCompletionsClient(\n",
    "    endpoint = \"https://models.inference.ai.azure.com\",\n",
    "    credential = AzureKeyCredential(GITHUB_TOKEN),\n",
    "    api_version = \"2024-12-01-preview\",\n",
    ")"
   ]
  },
  {
   "cell_type": "code",
   "execution_count": 100,
   "metadata": {},
   "outputs": [],
   "source": [
    "job_description = job_descriptions.loc[343, ('description')]"
   ]
  },
  {
   "cell_type": "code",
   "execution_count": 108,
   "metadata": {},
   "outputs": [],
   "source": [
    "prompt = f\"\"\"\n",
    "You're a Human Resources Manager that helps students land internships at renowned companies.\n",
    "\n",
    "I need your help to find the keywords of skills RELEVANT for the job description below:\n",
    "'''{job_description}'''\n",
    "\n",
    "ANSWER IN A PYTHON LIST FORMAT\n",
    "\"\"\""
   ]
  },
  {
   "cell_type": "code",
   "execution_count": 109,
   "metadata": {},
   "outputs": [],
   "source": [
    "response = client.complete(\n",
    "    messages=[\n",
    "        {\n",
    "            \"role\": \"assistant\",\n",
    "            \"content\": \"You are a the output of a function\",\n",
    "        },\n",
    "        UserMessage(prompt),\n",
    "    ],\n",
    "    model = \"o1\"\n",
    ")"
   ]
  },
  {
   "cell_type": "code",
   "execution_count": 110,
   "metadata": {},
   "outputs": [
    {
     "data": {
      "text/plain": [
       "['JavaScript',\n",
       " 'SQL',\n",
       " 'Python',\n",
       " 'R',\n",
       " 'Power BI',\n",
       " 'Data Visualization',\n",
       " 'Basic Web Development',\n",
       " 'Agile Project Management',\n",
       " 'Quality Management Systems (QMS)',\n",
       " 'Continuous Improvement',\n",
       " 'Problem-Solving',\n",
       " 'Digitalisation',\n",
       " 'Business Reporting',\n",
       " 'Analytical Skills',\n",
       " 'Communication Skills',\n",
       " 'Teamwork']"
      ]
     },
     "execution_count": 110,
     "metadata": {},
     "output_type": "execute_result"
    }
   ],
   "source": [
    "ast.literal_eval(response[\"choices\"][0][\"message\"][\"content\"])"
   ]
  }
 ],
 "metadata": {
  "kernelspec": {
   "display_name": ".venv",
   "language": "python",
   "name": "python3"
  },
  "language_info": {
   "codemirror_mode": {
    "name": "ipython",
    "version": 3
   },
   "file_extension": ".py",
   "mimetype": "text/x-python",
   "name": "python",
   "nbconvert_exporter": "python",
   "pygments_lexer": "ipython3",
   "version": "3.11.9"
  }
 },
 "nbformat": 4,
 "nbformat_minor": 2
}
