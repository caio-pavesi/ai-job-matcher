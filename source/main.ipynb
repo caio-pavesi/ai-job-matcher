{
 "cells": [
  {
   "cell_type": "code",
   "execution_count": 4,
   "metadata": {},
   "outputs": [],
   "source": [
    "import torch\n",
    "import requests\n",
    "import transformers\n",
    "import pandas as pd\n",
    "import huggingface_hub as hh\n",
    "\n",
    "from bs4 import BeautifulSoup\n",
    "\n",
    "from settings import BASE_DIR, HUGGINGFACE_TOKEN"
   ]
  },
  {
   "cell_type": "markdown",
   "metadata": {},
   "source": [
    "# Step 1 Extracting all jobs"
   ]
  },
  {
   "cell_type": "code",
   "execution_count": 5,
   "metadata": {},
   "outputs": [],
   "source": [
    "FILTER = '&filterSearch=jobType_INTERNSHIP'"
   ]
  },
  {
   "cell_type": "code",
   "execution_count": 6,
   "metadata": {},
   "outputs": [],
   "source": [
    "response = requests.get(\n",
    "    url = (\n",
    "        'https://www.bmwgroup.jobs/'\n",
    "        'en/_jcr_content/main/layoutcontainer_5337/jobfinder30.jobfinder_table.content.html?'\n",
    "        'rowIndex=1'\n",
    "        '&blockCount=10' +\n",
    "        FILTER\n",
    "    )\n",
    ")"
   ]
  },
  {
   "cell_type": "code",
   "execution_count": 7,
   "metadata": {},
   "outputs": [],
   "source": [
    "html = response.content.decode('utf-8')"
   ]
  },
  {
   "cell_type": "code",
   "execution_count": 8,
   "metadata": {},
   "outputs": [],
   "source": [
    "soup = BeautifulSoup(html, 'html.parser')"
   ]
  },
  {
   "cell_type": "code",
   "execution_count": 9,
   "metadata": {},
   "outputs": [],
   "source": [
    "count = soup.find('div', class_ = 'grp-jobfinder__table').get('data-counter')"
   ]
  },
  {
   "cell_type": "code",
   "execution_count": 10,
   "metadata": {},
   "outputs": [
    {
     "data": {
      "text/plain": [
       "'925'"
      ]
     },
     "execution_count": 10,
     "metadata": {},
     "output_type": "execute_result"
    }
   ],
   "source": [
    "count"
   ]
  },
  {
   "cell_type": "code",
   "execution_count": 11,
   "metadata": {},
   "outputs": [],
   "source": [
    "jobs = list()\n",
    "for req in range(int(int(count) / 10)):\n",
    "    response = requests.get(\n",
    "        url = (\n",
    "            'https://www.bmwgroup.jobs/'\n",
    "            'en/_jcr_content/main/layoutcontainer_5337/jobfinder30.jobfinder_table.content.html?'\n",
    "            f'rowIndex={req * 10}'\n",
    "            '&blockCount=10' +\n",
    "            FILTER\n",
    "        )\n",
    "    )\n",
    "\n",
    "    html = response.content.decode('utf-8')\n",
    "\n",
    "    soup = BeautifulSoup(html, 'html.parser')\n",
    "\n",
    "    jobfider_wrapper = soup.find_all('div', class_='grp-jobfinder__wrapper')\n",
    "\n",
    "    for job in jobfider_wrapper:\n",
    "        jobs.append(\n",
    "            {\n",
    "                \"title\": job.find('a').get('aria-label'),\n",
    "                \"link\": 'https://www.bmwgroup.jobs' + job.find('a').get('href'),\n",
    "                \"field\": job.find('a').find('div', class_='grp-jobfinder-cell-refno').get('data-job-field'),\n",
    "                \"entity\": job.find('a').find('div', class_='grp-jobfinder-cell-refno').get('data-job-legal-entity'),\n",
    "                \"city\": job.find('a').find('div', class_='grp-jobfinder-cell-refno').get('data-job-location'),\n",
    "                \"type\": job.find('a').find('div', class_='grp-jobfinder-cell-refno').get('data-job-type')\n",
    "            }\n",
    "        )\n",
    "jobs = pd.DataFrame(jobs)"
   ]
  },
  {
   "cell_type": "markdown",
   "metadata": {},
   "source": [
    "# Step 2: Extracting all jobs descriptions"
   ]
  },
  {
   "cell_type": "code",
   "execution_count": 12,
   "metadata": {},
   "outputs": [],
   "source": [
    "descriptions = list()\n",
    "for index in jobs.index:\n",
    "    descriptions.append({\n",
    "        \"link\": jobs.loc[index, ('link')],\n",
    "        \"html\": requests.get(jobs.loc[0, ('link')]).content.decode('utf-8')\n",
    "    })\n",
    "\n",
    "descriptions = pd.DataFrame(descriptions)"
   ]
  },
  {
   "cell_type": "code",
   "execution_count": 13,
   "metadata": {},
   "outputs": [],
   "source": [
    "descriptions['html'] = (\n",
    "    descriptions['html']\n",
    "    .str.replace('\\n', '')\n",
    "    .str.replace('\\t', '')\n",
    "    .str.replace('\\r', '')\n",
    "    .str.replace('  ', '')\n",
    "    .str.strip()\n",
    ")"
   ]
  },
  {
   "cell_type": "code",
   "execution_count": 14,
   "metadata": {},
   "outputs": [],
   "source": [
    "job_descriptions = jobs.merge(\n",
    "    descriptions,\n",
    "    how = 'left',\n",
    "    on = 'link'\n",
    ")\n",
    "\n",
    "del jobs\n",
    "del descriptions"
   ]
  },
  {
   "cell_type": "code",
   "execution_count": 16,
   "metadata": {},
   "outputs": [],
   "source": [
    "job_descriptions.to_excel(BASE_DIR / 'data/bmw_jobs.xlsx', index = False)"
   ]
  },
  {
   "cell_type": "code",
   "execution_count": null,
   "metadata": {},
   "outputs": [],
   "source": []
  }
 ],
 "metadata": {
  "kernelspec": {
   "display_name": ".venv",
   "language": "python",
   "name": "python3"
  },
  "language_info": {
   "codemirror_mode": {
    "name": "ipython",
    "version": 3
   },
   "file_extension": ".py",
   "mimetype": "text/x-python",
   "name": "python",
   "nbconvert_exporter": "python",
   "pygments_lexer": "ipython3",
   "version": "3.11.9"
  }
 },
 "nbformat": 4,
 "nbformat_minor": 2
}
