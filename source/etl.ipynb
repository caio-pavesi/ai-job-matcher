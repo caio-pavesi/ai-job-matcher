{
 "cells": [
  {
   "cell_type": "code",
   "execution_count": null,
   "metadata": {},
   "outputs": [],
   "source": [
    "import ast\n",
    "\n",
    "from pathlib import Path\n",
    "\n",
    "import requests\n",
    "import pandas as pd\n",
    "\n",
    "from jinja2 import Template\n",
    "from bs4 import BeautifulSoup\n",
    "\n",
    "from sqlalchemy import create_engine\n",
    "\n",
    "from settings import BASE_DIR, GITHUB_TOKEN"
   ]
  },
  {
   "cell_type": "markdown",
   "metadata": {},
   "source": [
    "# Extracting jobs"
   ]
  },
  {
   "cell_type": "code",
   "execution_count": null,
   "metadata": {},
   "outputs": [],
   "source": [
    "FILTER = '&filterSearch=jobType_INTERNSHIP'"
   ]
  },
  {
   "cell_type": "code",
   "execution_count": null,
   "metadata": {},
   "outputs": [],
   "source": [
    "response = requests.get(\n",
    "    url = (\n",
    "        'https://www.bmwgroup.jobs/'\n",
    "        'en/_jcr_content/main/layoutcontainer_5337/jobfinder30.jobfinder_table.content.html?'\n",
    "        'rowIndex=1'\n",
    "        '&blockCount=10' +\n",
    "        FILTER\n",
    "    )\n",
    ")"
   ]
  },
  {
   "cell_type": "code",
   "execution_count": null,
   "metadata": {},
   "outputs": [],
   "source": [
    "html = response.content.decode('utf-8')"
   ]
  },
  {
   "cell_type": "code",
   "execution_count": null,
   "metadata": {},
   "outputs": [],
   "source": [
    "soup = BeautifulSoup(html, 'html.parser')"
   ]
  },
  {
   "cell_type": "code",
   "execution_count": null,
   "metadata": {},
   "outputs": [],
   "source": [
    "count = soup.find('div', class_ = 'grp-jobfinder__table').get('data-counter')"
   ]
  },
  {
   "cell_type": "code",
   "execution_count": null,
   "metadata": {},
   "outputs": [],
   "source": [
    "jobs = list()\n",
    "for req in range(int(int(count) / 10)):\n",
    "    response = requests.get(\n",
    "        url = (\n",
    "            'https://www.bmwgroup.jobs/'\n",
    "            'en/_jcr_content/main/layoutcontainer_5337/jobfinder30.jobfinder_table.content.html?'\n",
    "            f'rowIndex={req * 10}'\n",
    "            '&blockCount=10' +\n",
    "            FILTER\n",
    "        )\n",
    "    )\n",
    "\n",
    "    html = response.content.decode('utf-8')\n",
    "\n",
    "    soup = BeautifulSoup(html, 'html.parser')\n",
    "\n",
    "    jobfider_wrapper = soup.find_all('div', class_='grp-jobfinder__wrapper')\n",
    "\n",
    "    for job in jobfider_wrapper:\n",
    "        jobs.append(\n",
    "            {\n",
    "                \"title\": job.find('a').get('aria-label'),\n",
    "                \"link\": 'https://www.bmwgroup.jobs' + job.find('a').get('href'),\n",
    "                \"field\": job.find('a').find('div', class_='grp-jobfinder-cell-refno').get('data-job-field'),\n",
    "                \"entity\": job.find('a').find('div', class_='grp-jobfinder-cell-refno').get('data-job-legal-entity'),\n",
    "                \"city\": job.find('a').find('div', class_='grp-jobfinder-cell-refno').get('data-job-location'),\n",
    "                \"type\": job.find('a').find('div', class_='grp-jobfinder-cell-refno').get('data-job-type')\n",
    "            }\n",
    "        )\n",
    "jobs = pd.DataFrame(jobs)"
   ]
  },
  {
   "cell_type": "markdown",
   "metadata": {},
   "source": [
    "# Extracting descriptions"
   ]
  },
  {
   "cell_type": "code",
   "execution_count": null,
   "metadata": {},
   "outputs": [],
   "source": [
    "descriptions = list()\n",
    "for index in jobs.index:\n",
    "    descriptions.append(\n",
    "        {\n",
    "            \"link\": jobs.loc[index, ('link')],\n",
    "            \"html\": requests.get(jobs.loc[index, ('link')]).content.decode('utf-8')\n",
    "        }\n",
    "    )\n",
    "\n",
    "descriptions = pd.DataFrame(descriptions)"
   ]
  },
  {
   "cell_type": "code",
   "execution_count": null,
   "metadata": {},
   "outputs": [],
   "source": [
    "descriptions['html'] = (\n",
    "    descriptions['html']\n",
    "    .str.replace('\\n', '')\n",
    "    .str.replace('\\t', '')\n",
    "    .str.replace('\\r', '')\n",
    "    .str.replace('  ', '')\n",
    "    .str.strip()\n",
    ")"
   ]
  },
  {
   "cell_type": "markdown",
   "metadata": {},
   "source": [
    "# Treating data"
   ]
  },
  {
   "cell_type": "code",
   "execution_count": null,
   "metadata": {},
   "outputs": [],
   "source": [
    "job_descriptions = jobs.merge(\n",
    "    descriptions,\n",
    "    how = 'left',\n",
    "    on = 'link'\n",
    ")\n",
    "\n",
    "del jobs\n",
    "del descriptions"
   ]
  },
  {
   "cell_type": "code",
   "execution_count": null,
   "metadata": {},
   "outputs": [],
   "source": [
    "job_descriptions.insert(\n",
    "    loc = len(job_descriptions.columns),\n",
    "    column = 'description',\n",
    "    value = job_descriptions.apply(\n",
    "        lambda row: (\n",
    "            BeautifulSoup(row[\"html\"], 'html.parser')\n",
    "            .find('div', class_='container-layout container no-top-spacing no-bottom-spacing')\n",
    "            .text\n",
    "        ),\n",
    "        axis = 1\n",
    "    )\n",
    ")"
   ]
  },
  {
   "cell_type": "code",
   "execution_count": null,
   "metadata": {},
   "outputs": [],
   "source": [
    "job_descriptions.drop(\n",
    "    columns = ['html'],\n",
    "    inplace = True\n",
    ")"
   ]
  },
  {
   "cell_type": "markdown",
   "metadata": {},
   "source": [
    "# Loading to database"
   ]
  },
  {
   "cell_type": "code",
   "execution_count": null,
   "metadata": {},
   "outputs": [],
   "source": [
    "job_descriptions.to_excel(\"../data/bmw_jobs.xlsx\", index = False)"
   ]
  },
  {
   "cell_type": "code",
   "execution_count": null,
   "metadata": {},
   "outputs": [],
   "source": [
    "engine = create_engine(f\"sqlite:///{BASE_DIR}/data/bmw_jobs.db\")\n",
    "job_descriptions.to_sql(\"job_descriptions\", engine, index=False, if_exists=\"replace\")"
   ]
  }
 ],
 "metadata": {
  "kernelspec": {
   "display_name": ".venv",
   "language": "python",
   "name": "python3"
  },
  "language_info": {
   "codemirror_mode": {
    "name": "ipython",
    "version": 3
   },
   "file_extension": ".py",
   "mimetype": "text/x-python",
   "name": "python",
   "nbconvert_exporter": "python",
   "pygments_lexer": "ipython3",
   "version": "3.13.0"
  }
 },
 "nbformat": 4,
 "nbformat_minor": 2
}
