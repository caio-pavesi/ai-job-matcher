{
 "cells": [
  {
   "cell_type": "code",
   "execution_count": null,
   "metadata": {},
   "outputs": [],
   "source": [
    "import re\n",
    "import sqlite3\n",
    "from pathlib import Path\n",
    "from datetime import date\n",
    "import requests\n",
    "import pandas as pd\n",
    "from bs4 import BeautifulSoup, Tag\n",
    "from types_ import JobFilter"
   ]
  },
  {
   "cell_type": "code",
   "execution_count": null,
   "metadata": {},
   "outputs": [],
   "source": [
    "FILTER: JobFilter = ['jobType_INTERNSHIP', 'postingDate_7']\n",
    "CREATE_TABLE_QUERY = Path('../sql/tables.sql').read_text()"
   ]
  },
  {
   "cell_type": "code",
   "execution_count": null,
   "metadata": {},
   "outputs": [],
   "source": [
    "def get_job_listing(\n",
    "        # row_index: int = 1,\n",
    "        filters: JobFilter | None = None,\n",
    "    ) -> BeautifulSoup:\n",
    "    \"\"\"This function fetches job listings from the BMW Group website.\n",
    "    Args:\n",
    "        filters (JobFilter | None): A list of filters to apply to the job search.\n",
    "            If None, no filters are applied.\n",
    "    Returns:\n",
    "        BeautifulSoup: A BeautifulSoup object containing the listed jobs.\"\"\"\n",
    "\n",
    "    url = (\n",
    "        'https://www.bmwgroup.jobs/'\n",
    "        'en/_jcr_content/main/layoutcontainer_5337/jobfinder30.jobfinder_table.content.html?'\n",
    "        f'filterSearch={\",\".join(filters)}' if filters else ''\n",
    "    )\n",
    "\n",
    "    response = requests.get(url)\n",
    "\n",
    "    html = response.content.decode('utf-8')\n",
    "\n",
    "    return BeautifulSoup(html, 'html.parser').find_all('div', class_ = 'grp-jobfinder__wrapper')"
   ]
  },
  {
   "cell_type": "code",
   "execution_count": null,
   "metadata": {},
   "outputs": [],
   "source": [
    "def get_job_page(link: str) -> str:\n",
    "    \"\"\"Simply fetches the job page content from the given link.\n",
    "    Args:\n",
    "        link (str): The URL of the job page.\n",
    "    Returns:\n",
    "        str: The HTML content of the job page.\"\"\"\n",
    "\n",
    "    return requests.get(link).content.decode('utf-8')"
   ]
  },
  {
   "cell_type": "code",
   "execution_count": null,
   "metadata": {},
   "outputs": [],
   "source": [
    "Html = str\n",
    "\n",
    "def get_job_description(job_page: Html) -> Html:\n",
    "    \"\"\"This function extracts the job description from the job page HTML, but keeps the formatting.\n",
    "    Args:\n",
    "        job_page (Html): The HTML content of the job page.\n",
    "    Returns:\n",
    "        str: The formatted job description as a html string.\"\"\"\n",
    "\n",
    "    description =  BeautifulSoup(job_page, 'html.parser').find('div', class_ = 'container-layout container no-top-spacing no-bottom-spacing')\n",
    "\n",
    "    # Remove all attributes that are not needed since i just need the formatted HTML.\n",
    "    for tag in description.find_all(True):\n",
    "        tag: Tag = tag\n",
    "        if 'class' in tag.attrs:\n",
    "            del tag.attrs['class']\n",
    "        if 'itemprop' in tag.attrs:\n",
    "            del tag.attrs['itemprop']\n",
    "\n",
    "    return (\n",
    "        description.decode_contents()\n",
    "        .replace('\\n', '')\n",
    "        .replace('\\t', '')\n",
    "        .replace('\\r', '')\n",
    "        .strip()\n",
    "    )"
   ]
  },
  {
   "cell_type": "code",
   "execution_count": null,
   "metadata": {},
   "outputs": [],
   "source": [
    "def get_job_publishing_date(job_infos: Tag) -> date:\n",
    "    \"\"\"Extracts the job publishing date from the job information section.\n",
    "    Args:\n",
    "        job_infos (Tag): A BeautifulSoup Tag object containing the job information.\n",
    "    Returns:\n",
    "        date: The date when the job was published, as a datetime.date object.\"\"\"\n",
    "\n",
    "    date_str = job_infos.find('div', class_ = 'grp-jobfinder__cell-publication').text.strip()\n",
    "    date_str = re.search(r'\\d{2}\\.\\d{2}\\.\\d{4}', date_str).group()\n",
    "\n",
    "    return pd.to_datetime(date_str, format = '%d.%m.%Y').date()"
   ]
  },
  {
   "cell_type": "markdown",
   "metadata": {},
   "source": [
    "## Extracting jobs data"
   ]
  },
  {
   "cell_type": "code",
   "execution_count": null,
   "metadata": {},
   "outputs": [],
   "source": [
    "jobs = list()\n",
    "for job in get_job_listing(FILTER):\n",
    "    job: Tag = job\n",
    "\n",
    "    link = 'https://www.bmwgroup.jobs/' + job.find('a').get('href')\n",
    "    html = get_job_page(link)\n",
    "\n",
    "    jobs.append(\n",
    "        {\n",
    "            \"job_portal_id\":    job.get('data-job-id'),\n",
    "            \"job_link\":         link,\n",
    "            \"job_title\":        job.find('a').get('aria-label'),\n",
    "            \"job_description\":  get_job_description(html),\n",
    "            \"job_posting_date\": get_job_publishing_date(job),\n",
    "            \"job_type\":         job.find('a').find('div', class_='grp-jobfinder-cell-refno').get('data-job-type'),\n",
    "            \"job_field\":        job.find('a').find('div', class_='grp-jobfinder-cell-refno').get('data-job-field'),\n",
    "            \"job_city\":         job.find('a').find('div', class_='grp-jobfinder-cell-refno').get('data-job-location'),\n",
    "        }\n",
    "    )\n",
    "\n",
    "jobs = pd.DataFrame(jobs)\n",
    "display(jobs)"
   ]
  },
  {
   "cell_type": "markdown",
   "metadata": {},
   "source": [
    "# Loading to database"
   ]
  },
  {
   "cell_type": "code",
   "execution_count": null,
   "metadata": {},
   "outputs": [],
   "source": [
    "with sqlite3.connect('../data/jobs.db') as connection:\n",
    "\n",
    "    connection.executescript(CREATE_TABLE_QUERY)\n",
    "\n",
    "    already_exists = pd.read_sql('SELECT job_portal_id FROM jobs', connection)\n",
    "    already_exists = already_exists['job_portal_id'].astype(int)\n",
    "\n",
    "    jobs = jobs[\n",
    "        ~jobs['job_portal_id'].astype(int)\n",
    "        .isin(already_exists)\n",
    "    ]\n",
    "\n",
    "    jobs.to_sql(\n",
    "        name = 'jobs',\n",
    "        con = connection,\n",
    "        if_exists = 'append',\n",
    "        index = False,\n",
    "    )"
   ]
  }
 ],
 "metadata": {
  "kernelspec": {
   "display_name": ".venv",
   "language": "python",
   "name": "python3"
  },
  "language_info": {
   "codemirror_mode": {
    "name": "ipython",
    "version": 3
   },
   "file_extension": ".py",
   "mimetype": "text/x-python",
   "name": "python",
   "nbconvert_exporter": "python",
   "pygments_lexer": "ipython3",
   "version": "3.13.0"
  }
 },
 "nbformat": 4,
 "nbformat_minor": 2
}
