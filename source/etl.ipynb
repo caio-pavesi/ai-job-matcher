{
 "cells": [
  {
   "cell_type": "code",
   "execution_count": null,
   "metadata": {},
   "outputs": [],
   "source": [
    "import sqlite3\n",
    "from pathlib import Path\n",
    "import requests\n",
    "import pandas as pd\n",
    "from bs4 import BeautifulSoup, Tag\n",
    "from settings import BASE_DIR\n",
    "from types_ import JobFilter"
   ]
  },
  {
   "cell_type": "code",
   "execution_count": null,
   "metadata": {},
   "outputs": [],
   "source": [
    "FILTER: JobFilter = ['jobType_INTERNSHIP', 'postingDate_7']\n",
    "CREATE_TABLE_QUERY = Path('../sql/tables.sql').read_text()"
   ]
  },
  {
   "cell_type": "markdown",
   "metadata": {},
   "source": [
    "# Extracting job list"
   ]
  },
  {
   "cell_type": "code",
   "execution_count": null,
   "metadata": {},
   "outputs": [],
   "source": [
    "def job_listing(row_index: int = 1, filters: JobFilter | None = None) -> BeautifulSoup:\n",
    "    \"\"\"\"\"\"\n",
    "\n",
    "    filters = f'&filterSearch={\",\".join(filters)}' if filters else ''\n",
    "\n",
    "    response = requests.get(\n",
    "        url = (\n",
    "            'https://www.bmwgroup.jobs/'\n",
    "            'en/_jcr_content/main/layoutcontainer_5337/jobfinder30.jobfinder_table.content.html'\n",
    "            f'?rowIndex={row_index}'\n",
    "            '&blockCount=10'\n",
    "            + filters\n",
    "        )\n",
    "    )\n",
    "\n",
    "    html = response.content.decode('utf-8')\n",
    "\n",
    "    return BeautifulSoup(html, 'html.parser')"
   ]
  },
  {
   "cell_type": "markdown",
   "metadata": {},
   "source": [
    "## Finding the count of available jobs"
   ]
  },
  {
   "cell_type": "code",
   "execution_count": null,
   "metadata": {},
   "outputs": [],
   "source": [
    "response = job_listing()"
   ]
  },
  {
   "cell_type": "code",
   "execution_count": null,
   "metadata": {},
   "outputs": [],
   "source": [
    "count = response.find('div', class_ = 'grp-jobfinder__table').get('data-counter')"
   ]
  },
  {
   "cell_type": "code",
   "execution_count": null,
   "metadata": {},
   "outputs": [],
   "source": [
    "quantity_of_pages = int(count) // 10"
   ]
  },
  {
   "cell_type": "markdown",
   "metadata": {},
   "source": [
    "## Extracting relevant jobs data"
   ]
  },
  {
   "cell_type": "code",
   "execution_count": null,
   "metadata": {},
   "outputs": [],
   "source": [
    "def get_job_page(link: str) -> str:\n",
    "    \"\"\"\"\"\"\n",
    "\n",
    "    return requests.get(link).content.decode('utf-8')"
   ]
  },
  {
   "cell_type": "code",
   "execution_count": null,
   "metadata": {},
   "outputs": [],
   "source": [
    "Html = str\n",
    "\n",
    "def get_job_description(job_page: Html) -> str:\n",
    "    \"\"\"\"\"\"\n",
    "\n",
    "    description = (\n",
    "        job_page\n",
    "        .replace('\\n', '')\n",
    "        .replace('\\t', '')\n",
    "        .replace('\\r', '')\n",
    "        .replace('  ', '')\n",
    "        .strip()\n",
    "    )\n",
    "\n",
    "    description = (\n",
    "        BeautifulSoup(description, 'html.parser')\n",
    "        .find('div', class_ = 'container-layout container no-top-spacing no-bottom-spacing')\n",
    "        .text\n",
    "    )\n",
    "\n",
    "    return description"
   ]
  },
  {
   "cell_type": "code",
   "execution_count": null,
   "metadata": {},
   "outputs": [],
   "source": [
    "jobs = list()\n",
    "for page in range(quantity_of_pages):\n",
    "    bmw_job_listing = job_listing(page * 10, FILTER).find_all('div', class_ = 'grp-jobfinder__wrapper')\n",
    "\n",
    "    for job_listed in bmw_job_listing:\n",
    "        job_listed: Tag = job_listed\n",
    "\n",
    "        link = 'https://www.bmwgroup.jobs/' + job_listed.find('a').get('href')\n",
    "        html = get_job_page(link)\n",
    "        description = get_job_description(html)\n",
    "\n",
    "        jobs.append(\n",
    "            {\n",
    "                \"job_portal_id\":    job_listed.get('data-job-id'),\n",
    "                \"job_link\":         link,\n",
    "                \"job_page_source\":  html,\n",
    "                \"job_title\":        job_listed.find('a').get('aria-label'),\n",
    "                \"job_description\":  description,\n",
    "                \"job_posting_date\": None,\n",
    "                \"job_type\":         job_listed.find('a').find('div', class_='grp-jobfinder-cell-refno').get('data-job-type'),\n",
    "                \"job_field\":        job_listed.find('a').find('div', class_='grp-jobfinder-cell-refno').get('data-job-field'),\n",
    "                \"job_city\":         job_listed.find('a').find('div', class_='grp-jobfinder-cell-refno').get('data-job-location'),\n",
    "            }\n",
    "        )\n",
    "\n",
    "    break\n",
    "\n",
    "jobs = pd.DataFrame(jobs)"
   ]
  },
  {
   "cell_type": "markdown",
   "metadata": {},
   "source": [
    "# Loading to database"
   ]
  },
  {
   "cell_type": "code",
   "execution_count": null,
   "metadata": {},
   "outputs": [],
   "source": [
    "with sqlite3.connect('../data/jobs.db') as connection:\n",
    "\n",
    "    connection.executescript(CREATE_TABLE_QUERY)\n",
    "\n",
    "    already_exists = pd.read_sql('SELECT job_portal_id FROM jobs', connection)\n",
    "\n",
    "    jobs = jobs[jobs['job_portal_id'].isin(already_exists['job_portal_id']) == False]\n",
    "\n",
    "    jobs.to_sql(\n",
    "        name = 'jobs',\n",
    "        con = connection,\n",
    "        if_exists = 'append',\n",
    "        index = False,\n",
    "    )"
   ]
  }
 ],
 "metadata": {
  "kernelspec": {
   "display_name": ".venv",
   "language": "python",
   "name": "python3"
  },
  "language_info": {
   "codemirror_mode": {
    "name": "ipython",
    "version": 3
   },
   "file_extension": ".py",
   "mimetype": "text/x-python",
   "name": "python",
   "nbconvert_exporter": "python",
   "pygments_lexer": "ipython3",
   "version": "3.13.0"
  }
 },
 "nbformat": 4,
 "nbformat_minor": 2
}
