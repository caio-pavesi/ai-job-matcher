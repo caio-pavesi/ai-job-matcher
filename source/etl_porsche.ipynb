{
 "cells": [
  {
   "cell_type": "code",
   "execution_count": null,
   "id": "0da9a1a9",
   "metadata": {},
   "outputs": [],
   "source": [
    "import sqlite3\n",
    "import requests\n",
    "import pandas as pd\n",
    "from pathlib import Path\n",
    "from utils import get_job_description"
   ]
  },
  {
   "cell_type": "code",
   "execution_count": null,
   "id": "7ac2e3c7",
   "metadata": {},
   "outputs": [],
   "source": [
    "CREATE_TABLE_QUERY = Path('../sql/tables.sql').read_text()"
   ]
  },
  {
   "cell_type": "code",
   "execution_count": null,
   "id": "ca5b1afd",
   "metadata": {},
   "outputs": [],
   "source": [
    "def get_job_listing() -> dict:\n",
    "\n",
    "    return requests.get(\n",
    "        'https://porsche-beesite-production-gjb.app.beesite.de/search/?data='\n",
    "        \"\"\"{\n",
    "        \"LanguageCode\": \"EN\",\n",
    "        \"SearchParameters\": {\n",
    "            \"FirstItem\": 1,\n",
    "            \"CountItem\": 1000,\n",
    "            \"Sort\": [\n",
    "                {\n",
    "                    \"Criterion\": \"PublicationStartDate\",\n",
    "                    \"Direction\": \"DESC\"\n",
    "                }\n",
    "            ],\n",
    "            \"MatchedObjectDescriptor\": [\n",
    "                \"ID\",\n",
    "                \"PositionTitle\",\n",
    "                \"PositionURI\",\n",
    "                \"PositionShortURI\",\n",
    "                \"PositionLocation.CountryName\",\n",
    "                \"PositionLocation.CityName\",\n",
    "                \"PositionLocation.Longitude\",\n",
    "                \"PositionLocation.Latitude\",\n",
    "                \"PositionLocation.PostalCode\",\n",
    "                \"PositionLocation.StreetName\",\n",
    "                \"PositionLocation.BuildingNumber\",\n",
    "                \"PositionLocation.Distance\",\n",
    "                \"JobCategory.Name\",\n",
    "                \"PublicationStartDate\",\n",
    "                \"ParentOrganizationName\",\n",
    "                \"ParentOrganization\",\n",
    "                \"OrganizationShortName\",\n",
    "                \"CareerLevel.Name\",\n",
    "                \"JobSector.Name\",\n",
    "                \"PositionIndustry.Name\",\n",
    "                \"PublicationCode\",\n",
    "                \"PublicationChannel.Id\"\n",
    "            ]\n",
    "        },\n",
    "        \"SearchCriteria\": [\n",
    "            {\n",
    "                \"CriterionName\": \"PublicationChannel.Code\",\n",
    "                \"CriterionValue\": [\n",
    "                    \"12\"\n",
    "                ]\n",
    "            },\n",
    "            {\n",
    "                \"CriterionName\": \"CareerLevel.Code\",\n",
    "                \"CriterionValue\": [\n",
    "                    \"5\"\n",
    "                ]\n",
    "            }\n",
    "        ]\n",
    "    }\"\"\"\n",
    "    ).json()['SearchResult']['SearchResultItems']"
   ]
  },
  {
   "cell_type": "code",
   "execution_count": null,
   "id": "6512669a",
   "metadata": {},
   "outputs": [],
   "source": [
    "jobs = list()\n",
    "for item in get_job_listing():\n",
    "    job = item['MatchedObjectDescriptor']\n",
    "\n",
    "    link = str(job['PositionURI']).replace(' ', '')\n",
    "\n",
    "    jobs.append({\n",
    "        \"job_portal_id\":    int(job['ID']),\n",
    "        \"job_link\":         link,\n",
    "        \"job_title\":        job['PositionTitle'],\n",
    "        \"job_description\":  get_job_description(link),\n",
    "        \"job_posting_date\": pd.to_datetime(str(job['PublicationStartDate']), format = 'ISO8601').date(),\n",
    "        \"job_type\":         job['JobCategory'][0]['Name'],\n",
    "        \"job_field\":        job['PositionIndustry'][0]['Name'],\n",
    "        \"job_city\":         job['PositionLocation'][0]['CityName'],\n",
    "    })\n",
    "\n",
    "jobs = pd.DataFrame(jobs)\n",
    "display(jobs)"
   ]
  },
  {
   "cell_type": "code",
   "execution_count": null,
   "id": "b1dd7ad6",
   "metadata": {},
   "outputs": [],
   "source": [
    "FILTER_QUERY = \"\"\"SELECT job_portal_id FROM jobs WHERE job_link LIKE 'https://jobs.porsche.com/%'\"\"\""
   ]
  },
  {
   "cell_type": "code",
   "execution_count": null,
   "id": "d3453991",
   "metadata": {},
   "outputs": [],
   "source": [
    "with sqlite3.connect('../data/jobs.db') as connection:\n",
    "\n",
    "    connection.executescript(CREATE_TABLE_QUERY)\n",
    "\n",
    "    already_exists = pd.read_sql(FILTER_QUERY, connection)\n",
    "    already_exists = already_exists['job_portal_id']\n",
    "\n",
    "    jobs = jobs[~jobs['job_portal_id'].isin(already_exists)]\n",
    "\n",
    "    jobs.to_sql(\n",
    "        name = 'jobs',\n",
    "        con = connection,\n",
    "        if_exists = 'append',\n",
    "        index = False,\n",
    "    )"
   ]
  }
 ],
 "metadata": {
  "kernelspec": {
   "display_name": ".venv",
   "language": "python",
   "name": "python3"
  },
  "language_info": {
   "codemirror_mode": {
    "name": "ipython",
    "version": 3
   },
   "file_extension": ".py",
   "mimetype": "text/x-python",
   "name": "python",
   "nbconvert_exporter": "python",
   "pygments_lexer": "ipython3",
   "version": "3.13.0"
  }
 },
 "nbformat": 4,
 "nbformat_minor": 5
}
