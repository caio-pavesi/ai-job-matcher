{
 "cells": [
  {
   "cell_type": "code",
   "execution_count": null,
   "metadata": {},
   "outputs": [],
   "source": [
    "import re\n",
    "import sqlite3\n",
    "from pathlib import Path\n",
    "from datetime import date\n",
    "import requests\n",
    "import pandas as pd\n",
    "from bs4 import BeautifulSoup, Tag\n",
    "from types_ import JobFilter\n",
    "from utils import get_job_description"
   ]
  },
  {
   "cell_type": "code",
   "execution_count": null,
   "metadata": {},
   "outputs": [],
   "source": [
    "CREATE_TABLE_QUERY = Path('../sql/tables.sql').read_text()\n",
    "FILTER_QUERY = \"\"\"SELECT job_portal_id FROM jobs WHERE job_link LIKE 'https://jobs.ferrari.com/%'\"\"\""
   ]
  },
  {
   "cell_type": "code",
   "execution_count": null,
   "metadata": {},
   "outputs": [],
   "source": [
    "def get_job_listing(\n",
    "        # row_index: int = 1,\n",
    "        filters: JobFilter | None = None,\n",
    "    ) -> BeautifulSoup:\n",
    "    \"\"\"This function fetches job listings from the BMW Group website.\n",
    "    Args:\n",
    "        filters (JobFilter | None): A list of filters to apply to the job search.\n",
    "            If None, no filters are applied.\n",
    "    Returns:\n",
    "        BeautifulSoup: A BeautifulSoup object containing the listed jobs.\"\"\"\n",
    "\n",
    "    response = requests.get('https://jobs.ferrari.com/search/')\n",
    "\n",
    "    html = response.content.decode('utf-8')\n",
    "\n",
    "    return BeautifulSoup(html, 'html.parser').find('ul', class_ = 'container job-list').find_all('li')"
   ]
  },
  {
   "cell_type": "code",
   "execution_count": null,
   "metadata": {},
   "outputs": [],
   "source": [
    "def get_job_portal_id(tag: Tag) -> int:\n",
    "    \"\"\"Extracts the job portal ID from a BeautifulSoup Tag object.\n",
    "\n",
    "    Args:\n",
    "        tag (Tag): A BeautifulSoup Tag object containing the job listing.\n",
    "\n",
    "    Returns:\n",
    "        int: The job portal ID extracted from the tag's data-id attribute.\n",
    "    \"\"\"\n",
    "\n",
    "    job_portal_id = str(tag.get('data-focus-tile'))\n",
    "    job_portal_id = re.search(r'(\\d+)', job_portal_id).group()\n",
    "\n",
    "    return int(job_portal_id)"
   ]
  },
  {
   "cell_type": "code",
   "execution_count": null,
   "metadata": {},
   "outputs": [],
   "source": [
    "def get_job_posting_date(tag: Tag) -> date:\n",
    "    \"\"\"Extracts the job publishing date from the job information section.\n",
    "    Args:\n",
    "        tag (Tag): A BeautifulSoup Tag object containing the job information.\n",
    "    Returns:\n",
    "        date: The date when the job was published, as a datetime.date object.\"\"\"\n",
    "\n",
    "    date_str = tag.find('div', class_ = 'section-field date fontcolorb6a533a1')\n",
    "    date_str: str = date_str.text.strip().replace('Date', '').strip()\n",
    "\n",
    "    return pd.to_datetime(date_str).date()"
   ]
  },
  {
   "cell_type": "code",
   "execution_count": null,
   "metadata": {},
   "outputs": [],
   "source": [
    "def get_job_field(tag: Tag) -> str | None:\n",
    "    \"\"\"Extracts the job field from the job information section.\n",
    "    Args:\n",
    "        tag (Tag): A BeautifulSoup Tag object containing the job information.\n",
    "    Returns:\n",
    "        str: The job field as a string.\"\"\"\n",
    "\n",
    "    try:\n",
    "        field = tag.find('div', class_ = 'section-field dept fontcolorb6a533a1').text\n",
    "        field = str(field).strip().replace('Department', '').strip()\n",
    "\n",
    "    except AttributeError:\n",
    "        field = None\n",
    "\n",
    "    return field"
   ]
  },
  {
   "cell_type": "code",
   "execution_count": null,
   "metadata": {},
   "outputs": [],
   "source": [
    "def get_job_city(tag: Tag) -> str | None:\n",
    "    \"\"\"Extracts the job city from the job information section.\n",
    "    Args:\n",
    "        tag (Tag): A BeautifulSoup Tag object containing the job information.\n",
    "    Returns:\n",
    "        str: The job city as a string.\"\"\"\n",
    "\n",
    "    try:\n",
    "        city = tag.find('div', class_ = 'section-field location fontcolorb6a533a1').text\n",
    "        city = str(city).strip().replace('Location', '').strip()\n",
    "\n",
    "    except AttributeError:\n",
    "        city = None\n",
    "\n",
    "    return city"
   ]
  },
  {
   "cell_type": "code",
   "execution_count": null,
   "metadata": {},
   "outputs": [],
   "source": [
    "def get_job_title(tag: Tag) -> str | None:\n",
    "    \"\"\"Extracts the job title from the job listing.\n",
    "    Args:\n",
    "        tag (Tag): A BeautifulSoup Tag object containing the job listing.\n",
    "    Returns:\n",
    "        str: The job title as a string.\"\"\"\n",
    "\n",
    "    try:\n",
    "        title = tag.find('a', class_ = 'jobTitle-link fontcolorb6a533a1').text.strip()\n",
    "\n",
    "    except AttributeError:\n",
    "        title = None\n",
    "\n",
    "\n",
    "    return title\n"
   ]
  },
  {
   "cell_type": "markdown",
   "metadata": {},
   "source": [
    "## Extracting jobs data"
   ]
  },
  {
   "cell_type": "code",
   "execution_count": null,
   "metadata": {},
   "outputs": [],
   "source": [
    "jobs = list()\n",
    "for job in get_job_listing():\n",
    "    job: Tag = job\n",
    "\n",
    "    link = 'https://jobs.ferrari.com/search' + job.get('data-url')\n",
    "\n",
    "    jobs.append(\n",
    "        {\n",
    "            \"job_portal_id\":    get_job_portal_id(job),\n",
    "            \"job_link\":         link,\n",
    "            \"job_title\":        get_job_title(job),\n",
    "            \"job_description\":  get_job_description(link),\n",
    "            \"job_posting_date\": get_job_posting_date(job),\n",
    "            \"job_type\":         None,\n",
    "            \"job_field\":        get_job_field(job),\n",
    "            \"job_city\":         get_job_city(job),\n",
    "        }\n",
    "    )\n",
    "\n",
    "jobs = pd.DataFrame(jobs)\n",
    "display(jobs)"
   ]
  },
  {
   "cell_type": "markdown",
   "metadata": {},
   "source": [
    "# Loading to database"
   ]
  },
  {
   "cell_type": "code",
   "execution_count": null,
   "metadata": {},
   "outputs": [],
   "source": [
    "with sqlite3.connect('../data/jobs.db') as connection:\n",
    "\n",
    "    connection.executescript(CREATE_TABLE_QUERY)\n",
    "\n",
    "    already_exists = pd.read_sql(FILTER_QUERY, connection)\n",
    "    already_exists = already_exists['job_portal_id']\n",
    "\n",
    "    jobs = jobs[~jobs['job_portal_id'].isin(already_exists)]\n",
    "\n",
    "    jobs.to_sql(\n",
    "        name = 'jobs',\n",
    "        con = connection,\n",
    "        if_exists = 'append',\n",
    "        index = False,\n",
    "    )"
   ]
  }
 ],
 "metadata": {
  "kernelspec": {
   "display_name": ".venv",
   "language": "python",
   "name": "python3"
  },
  "language_info": {
   "codemirror_mode": {
    "name": "ipython",
    "version": 3
   },
   "file_extension": ".py",
   "mimetype": "text/x-python",
   "name": "python",
   "nbconvert_exporter": "python",
   "pygments_lexer": "ipython3",
   "version": "3.13.0"
  }
 },
 "nbformat": 4,
 "nbformat_minor": 2
}
