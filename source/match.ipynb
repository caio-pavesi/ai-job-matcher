{
 "cells": [
  {
   "cell_type": "markdown",
   "metadata": {},
   "source": [
    "https://python.langchain.com/docs/tutorials/rag/\n",
    "</br>https://python.langchain.com/docs/integrations/text_embedding/\n",
    "</br>https://platform.openai.com/settings/organization/billing/overview"
   ]
  },
  {
   "cell_type": "code",
   "execution_count": 73,
   "metadata": {},
   "outputs": [],
   "source": [
    "import json\n",
    "import sqlite3\n",
    "from pathlib import Path\n",
    "import pandas as pd\n",
    "from langchain.document_loaders import PyPDFLoader, DirectoryLoader\n",
    "from langchain_core.prompts.chat import PromptTemplate\n",
    "from langchain_openai import ChatOpenAI\n",
    "from settings import OPENAI_API_KEY\n",
    "from types_ import Application, ApplicationRating"
   ]
  },
  {
   "cell_type": "code",
   "execution_count": 74,
   "metadata": {},
   "outputs": [],
   "source": [
    "def evalueate_applicantion(\n",
    "        llm: ChatOpenAI,\n",
    "        prompt: str,\n",
    "        applicant: Application,\n",
    "        job_description: str,\n",
    "    ) -> ApplicationRating:\n",
    "    \"\"\"\n",
    "    Evaluate an applicant's documents against a job description using a language model.\n",
    "    Args:\n",
    "        llm (ChatOpenAI): The language model to use for evaluation.\n",
    "        applicant (Application): The applicant's documents, either a single Document or a list of Documents.\n",
    "        job_description (str): The job description to evaluate against.\n",
    "    Returns:\n",
    "        ApplicationRating: A dictionary containing the evaluation results, including a score and a recommendation.\n",
    "    \"\"\"\n",
    "\n",
    "    prompt = PromptTemplate(\n",
    "        template = prompt,\n",
    "        template_format = \"jinja2\",\n",
    "        input_variables = [\"context\", \"question\"],\n",
    "    ).invoke({\n",
    "        \"context\": applicant,\n",
    "        \"question\": job_description,\n",
    "    })\n",
    "\n",
    "    answer = llm.invoke(prompt)\n",
    "\n",
    "    return json.loads(answer.content)"
   ]
  },
  {
   "cell_type": "code",
   "execution_count": 76,
   "metadata": {},
   "outputs": [],
   "source": [
    "PROMPT_TEMPLATE = Path('/Users/caiopavesi/Code/bmw-job-matcher/data/prompt.jinja').read_text()\n",
    "APPLICANT_DOCUMENTS_FILES_PATH = Path('/Users/caiopavesi/Library/Mobile Documents/com~apple~CloudDocs/0/Work/Job applications/Templates/Latest')"
   ]
  },
  {
   "cell_type": "code",
   "execution_count": 77,
   "metadata": {},
   "outputs": [],
   "source": [
    "loader = DirectoryLoader(APPLICANT_DOCUMENTS_FILES_PATH, glob = \"*.pdf\", loader_cls = PyPDFLoader)\n",
    "docs_content = loader.load()"
   ]
  },
  {
   "cell_type": "code",
   "execution_count": 78,
   "metadata": {},
   "outputs": [],
   "source": [
    "llm = ChatOpenAI(\n",
    "    model = \"gpt-4.1\",\n",
    "    temperature = 0,\n",
    "    api_key = OPENAI_API_KEY\n",
    ")"
   ]
  },
  {
   "cell_type": "code",
   "execution_count": 79,
   "metadata": {},
   "outputs": [],
   "source": [
    "filter_query = \"\"\"SELECT job_portal_id, job_description FROM jobs\n",
    "WHERE job_portal_id NOT IN\n",
    "(SELECT job_portal_id FROM matches);\"\"\""
   ]
  },
  {
   "cell_type": "code",
   "execution_count": 99,
   "metadata": {},
   "outputs": [],
   "source": [
    "insert_query = \"\"\"INSERT INTO MATCHES (\n",
    "    job_portal_id,\n",
    "    match_score,\n",
    "    match_strengths,\n",
    "    match_weaknesses,\n",
    "    match_improvement_points,\n",
    "    match_conclusions,\n",
    "    match_possible_interview\n",
    ") VALUES (?, ?, ?, ?, ?, ?, ?)\n",
    "\"\"\""
   ]
  },
  {
   "cell_type": "code",
   "execution_count": null,
   "metadata": {},
   "outputs": [],
   "source": [
    "with sqlite3.connect('../data/jobs.db') as connection:\n",
    "    for index, job in pd.read_sql_query(filter_query, connection).iterrows():\n",
    "        rate = evalueate_applicantion(llm, PROMPT_TEMPLATE, docs_content, job['job_description'])\n",
    "        query_params = (job['job_portal_id'], *[v for v in rate.values()])\n",
    "        connection.execute(insert_query, query_params)"
   ]
  }
 ],
 "metadata": {
  "kernelspec": {
   "display_name": ".venv",
   "language": "python",
   "name": "python3"
  },
  "language_info": {
   "codemirror_mode": {
    "name": "ipython",
    "version": 3
   },
   "file_extension": ".py",
   "mimetype": "text/x-python",
   "name": "python",
   "nbconvert_exporter": "python",
   "pygments_lexer": "ipython3",
   "version": "3.13.0"
  }
 },
 "nbformat": 4,
 "nbformat_minor": 2
}
