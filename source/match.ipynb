{
 "cells": [
  {
   "cell_type": "code",
   "execution_count": 1,
   "metadata": {},
   "outputs": [],
   "source": [
    "import ast\n",
    "\n",
    "from pathlib import Path\n",
    "\n",
    "import requests\n",
    "import pandas as pd\n",
    "\n",
    "from jinja2 import Template\n",
    "from bs4 import BeautifulSoup\n",
    "\n",
    "from azure.ai.inference import ChatCompletionsClient\n",
    "from azure.core.credentials import AzureKeyCredential\n",
    "from azure.ai.inference.models import SystemMessage, UserMessage\n",
    "\n",
    "from settings import BASE_DIR, GITHUB_TOKEN"
   ]
  },
  {
   "cell_type": "markdown",
   "metadata": {},
   "source": [
    "# Step 3: Filtering the job keywords"
   ]
  },
  {
   "cell_type": "code",
   "execution_count": 2,
   "metadata": {},
   "outputs": [],
   "source": [
    "job_descriptions = pd.read_excel(\"../data/bmw_jobs.xlsx\")"
   ]
  },
  {
   "cell_type": "code",
   "execution_count": 3,
   "metadata": {},
   "outputs": [],
   "source": [
    "client = ChatCompletionsClient(\n",
    "    endpoint = \"https://models.inference.ai.azure.com\",\n",
    "    credential = AzureKeyCredential(GITHUB_TOKEN),\n",
    "    api_version = \"2024-12-01-preview\",\n",
    ")"
   ]
  },
  {
   "cell_type": "code",
   "execution_count": 4,
   "metadata": {},
   "outputs": [],
   "source": [
    "job_description = job_descriptions.loc[343, ('description')]"
   ]
  },
  {
   "cell_type": "code",
   "execution_count": 5,
   "metadata": {},
   "outputs": [],
   "source": [
    "application = Path(BASE_DIR / \"data/application.txt\").read_text()"
   ]
  },
  {
   "cell_type": "code",
   "execution_count": 6,
   "metadata": {},
   "outputs": [],
   "source": [
    "PROMPT = Template(Path(BASE_DIR / \"data/rating.prompt.txt\").read_text())"
   ]
  },
  {
   "cell_type": "code",
   "execution_count": 7,
   "metadata": {},
   "outputs": [],
   "source": [
    "response = client.complete(\n",
    "    messages=[\n",
    "        {\n",
    "            \"role\": \"assistant\",\n",
    "            \"content\": \"You are a the output of a function\",\n",
    "        },\n",
    "        UserMessage(PROMPT.render(JOB_DESCRIPTION = job_description, APPLICATION = application)),\n",
    "    ],\n",
    "    model = \"o1\"\n",
    ")"
   ]
  },
  {
   "cell_type": "code",
   "execution_count": 8,
   "metadata": {},
   "outputs": [
    {
     "data": {
      "application/vnd.microsoft.datawrangler.viewer.v0+json": {
       "columns": [
        {
         "name": "index",
         "rawType": "int64",
         "type": "integer"
        },
        {
         "name": "weak",
         "rawType": "object",
         "type": "string"
        },
        {
         "name": "strong",
         "rawType": "object",
         "type": "string"
        },
        {
         "name": "rating",
         "rawType": "int64",
         "type": "integer"
        }
       ],
       "ref": "b2b2bf76-1aff-4852-a1f3-48b636c6f665",
       "rows": [
        [
         "0",
         "The candidate lacks experience in CAD software (specifically CATIA) and does not meet the requirement of having near-fluent (Verhandlungssicher) German skills, which might be a challenge for effective communication in a German-speaking environment. Additionally, while his background is relevant, he has not explicitly shown direct hands-on validation or testing experience in automotive exterior parts.",
         "He brings extensive practical experience with BMW, strong analytical and problem-solving skills, and solid technical expertise in Excel, VBA, Power Platform, and Python. His proven leadership in managing projects and teams, as well as adaptability and strong communication skills, align well with the team-oriented and innovative environment BMW fosters. He shows high motivation, self-initiative, and a track record of successful collaboration across international settings.",
         "7"
        ]
       ],
       "shape": {
        "columns": 3,
        "rows": 1
       }
      },
      "text/html": [
       "<div>\n",
       "<style scoped>\n",
       "    .dataframe tbody tr th:only-of-type {\n",
       "        vertical-align: middle;\n",
       "    }\n",
       "\n",
       "    .dataframe tbody tr th {\n",
       "        vertical-align: top;\n",
       "    }\n",
       "\n",
       "    .dataframe thead th {\n",
       "        text-align: right;\n",
       "    }\n",
       "</style>\n",
       "<table border=\"1\" class=\"dataframe\">\n",
       "  <thead>\n",
       "    <tr style=\"text-align: right;\">\n",
       "      <th></th>\n",
       "      <th>weak</th>\n",
       "      <th>strong</th>\n",
       "      <th>rating</th>\n",
       "    </tr>\n",
       "  </thead>\n",
       "  <tbody>\n",
       "    <tr>\n",
       "      <th>0</th>\n",
       "      <td>The candidate lacks experience in CAD software...</td>\n",
       "      <td>He brings extensive practical experience with ...</td>\n",
       "      <td>7</td>\n",
       "    </tr>\n",
       "  </tbody>\n",
       "</table>\n",
       "</div>"
      ],
      "text/plain": [
       "                                                weak  \\\n",
       "0  The candidate lacks experience in CAD software...   \n",
       "\n",
       "                                              strong  rating  \n",
       "0  He brings extensive practical experience with ...       7  "
      ]
     },
     "execution_count": 8,
     "metadata": {},
     "output_type": "execute_result"
    }
   ],
   "source": [
    "pd.DataFrame([ast.literal_eval(response[\"choices\"][0][\"message\"][\"content\"])])"
   ]
  }
 ],
 "metadata": {
  "kernelspec": {
   "display_name": ".venv",
   "language": "python",
   "name": "python3"
  },
  "language_info": {
   "codemirror_mode": {
    "name": "ipython",
    "version": 3
   },
   "file_extension": ".py",
   "mimetype": "text/x-python",
   "name": "python",
   "nbconvert_exporter": "python",
   "pygments_lexer": "ipython3",
   "version": "3.13.0"
  }
 },
 "nbformat": 4,
 "nbformat_minor": 2
}
