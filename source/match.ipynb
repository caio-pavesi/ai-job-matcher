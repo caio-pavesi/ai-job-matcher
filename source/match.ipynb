{
 "cells": [
  {
   "cell_type": "markdown",
   "metadata": {},
   "source": [
    "# Will be replaced with these references\n",
    "https://www.youtube.com/watch?v=2TJxpyO3ei4</br>\n",
    "https://www.youtube.com/watch?v=tcqEUSNCn8I"
   ]
  },
  {
   "cell_type": "code",
   "execution_count": 41,
   "metadata": {},
   "outputs": [],
   "source": [
    "from pathlib import Path\n",
    "from ast import literal_eval\n",
    "\n",
    "from langchain_ollama import ChatOllama\n",
    "from langchain_core.prompts import ChatPromptTemplate\n",
    "from langchain_community.document_loaders import PyPDFLoader\n",
    "\n",
    "# Temporary\n",
    "import pandas as pd"
   ]
  },
  {
   "cell_type": "code",
   "execution_count": 42,
   "metadata": {},
   "outputs": [],
   "source": [
    "PROMPT_TEMPLATE_FILE_PATH = Path('/Users/caiopavesi/Code/bmw-job-matcher/data/prompt.jinja')\n",
    "CANDIDATE_APPLICATION_FILES_PATH = Path('/Users/caiopavesi/Library/Mobile Documents/com~apple~CloudDocs/0/Work/Job applications/Templates/Latest')"
   ]
  },
  {
   "cell_type": "code",
   "execution_count": 43,
   "metadata": {},
   "outputs": [],
   "source": [
    "documents = []\n",
    "for file in CANDIDATE_APPLICATION_FILES_PATH.glob('*.pdf'):\n",
    "    loader = PyPDFLoader(file)\n",
    "    async for page in loader.alazy_load():\n",
    "        documents.append(page.page_content)\n",
    "documents = [file for file in filter(lambda document: document != '', documents)]\n",
    "documents = '#DOCUMENT#\\n\\n' + '\\n\\n#DOCUMENT#\\n\\n'.join(documents)"
   ]
  },
  {
   "cell_type": "code",
   "execution_count": 44,
   "metadata": {},
   "outputs": [],
   "source": [
    "text = \"\"\"You are an expert hiring manager. You will be given two texts:\n",
    "\n",
    "(1) **Job Description:** ```PRAKTIKANT SOFTWAREENTWICKLUNG AUTONOMES FAHREN (W/M/X)\n",
    "EIN GUTES PRAKTIKUM IST PRAKTISCH NIE THEORETISCH.\n",
    "TEILE DEINE LEIDENSCHAFT.\n",
    "Erfolg ist Teamarbeit. Nur wenn Expert:innen ihr Fachwissen und ihre Begeisterung teilen, entsteht ein Workflow, in dem Ideen fließen. Das nennen wir Innovationskultur. Deshalb geben wir Studierenden bei uns nicht nur die Gelegenheit zum Zuhören, sondern vor allem auch zum Mitreden und Weiterdenken.\n",
    " \n",
    "Wir, die BMW Group, bieten dir ein spannendes und abwechslungsreiches Praktikum im Bereich Software Entwicklung Autonomes Fahren.\n",
    " \n",
    "Was erwartet dich?\n",
    "Im Rahmen deines Praktikums unterstützt du die Software-Entwicklung der Fahrassistenz für autonomes Fahren.\n",
    "Ferner erhältst du einen Einblick in die Prozesse der Software-Entwicklung, in das Fehlermanagement und in die Erprobung der Software.\n",
    "Darüber hinaus unterstützt du unser Team bei laufenden Softwareentwicklungsprojekten und kannst dabei vielfältige Erfahrungen in der direkten Zusammenarbeit mit der Projektleitung von Serien-Großprojekten und unseren Prozesspartner:innen sammeln.\n",
    " \n",
    "Was bringst du mit?\n",
    "Studium der (Wirtschafts-)Informatik, des (Wirtschafts-)Ingenieurwesens, der Elektrotechnik, des Maschinenbaus oder ein vergleichbarer Studiengang.\n",
    "Zweite Hälfte Bachelorstudiengang oder Masterstudium.\n",
    "Erste praktische Erfahrung im Softwareentwicklungsbereich.\n",
    "Kenntnisse im Umgang mit C, C++ oder Python von Vorteil.\n",
    "Versierter Umgang mit MS Office und Interesse an der Softwareentwicklung in der Automobil-Serienentwicklung.\n",
    "Team- und Kommunikationsfähigkeit sowie Freude am eigenständiges Arbeiten.\n",
    " \n",
    "Du hast Spaß daran, Neues zu lernen und unsere Abteilung tatkräftig zu unterstützen? Bewirb dich jetzt!\n",
    " \n",
    "Was bieten wir dir?\n",
    "Umfassendes Mentoring & Onboarding.\n",
    "Persönliche & fachliche Weiterentwicklung.\n",
    "Flexible Arbeitszeiten.\n",
    "Mobilarbeit.\n",
    "Attraktive & faire Vergütung.\n",
    "Apartments für Studierende (nach Verfügbarkeit & nur am Standort München).\n",
    "Und vieles mehr siehe bmw.jobs/waswirbieten.\n",
    " \n",
    "Startdatum: ab 18.08.2025\n",
    "Dauer: 6 Monate\n",
    "Arbeitszeit:​ Vollzeit  \n",
    "​\n",
    "Du hast Fragen? Dann reiche dein Anliegen ganz einfach über unser Kontaktformular ein. Deine Anfrage wird im Nachgang telefonisch oder per E-Mail beantwortet.\n",
    " \n",
    "Bei der BMW Group ist uns Chancengleichheit ein besonderes Anliegen. Die Gleichbehandlung von Bewerber:innen sowie Mitarbeiter:innen ist ein grundlegendes Prinzip unserer Unternehmenspolitik. Daher basieren auch unsere Recruiting-Entscheidungen auf ihrer Persönlichkeit, ihren Erfahrungen und Fähigkeiten.\n",
    "Mehr Informationen hier.\n",
    "Praktikant Softwareentwicklung Autonomes Fahren (w/m/x)\n",
    "Legal Entity:\n",
    "BMW AG\n",
    "Location:\n",
    "Munich\n",
    "Job Field:\n",
    "Autonomous Driving\n",
    "Job Id:\n",
    "159531\n",
    "Publication Date:\n",
    "26.05.2025```\n",
    "(2) **Candidate Application:** ```# Curriculum\n",
    "\n",
    "Applying for: XXXXX\n",
    "•\tProduction engineering student with 2+ years of experience with BMW ranging from operations, aftersales, and industrial engineering acting with multiple teams, departments, seniorities, in high-pressure and dynamic environments.\n",
    "•\tBuilding integrated Excel, VBA system for headcount forecasting, targeted for 3 plant senior executives.\n",
    "•\tCollaborated with 10+ colleagues across 3 plants to solve project issues that use Power Platform, Excel, and Python.\n",
    "•\tManaged a SAE racing team, creating strategies that guaranteed a 5th place in management over 60 teams.\n",
    "•\tWorked a month remotely from Denmark to get experience with Nordic cultures.\n",
    "Skills\n",
    "•\tTechnical: Excel, VBA, Power BI, Power Apps, Power Automate, Python, SQL, Git, GitHub, BMW’s GAIA, BMW’s IPSL.\n",
    "•\tLanguages: English (C1), German (Learning A1), Portuguese (C2).\n",
    "•\tInterpersonal: Adaptability, Project-management, Teamwork, Proactivity, Fast learning, Innovative thinking.\n",
    "•\tInterests: AI Agents, Strategic Management, Cross-cultural collaboration, High-performance Motorsport.\n",
    "Work Experience\n",
    "BMW Group\t11/2024 – Present\n",
    "Intern in logistics production control, VPS\tAraquari, Brazil\n",
    "•\tBuilding integrated Excel, VBA system for headcount forecasting, targeted for 3 plant senior executives.\n",
    "•\tCollaborated with 10+ colleagues across 3 plants to solve project issues using Power Platform, Excel, and Python.\n",
    "•\tDeveloped and maintained Power BI dashboards using SQL, Power Query, and Excel, reducing update time by ~25%.\n",
    "•\tRedesigned Power Apps systems and workflows to track KPIs of factory process improvements for 100+ employees.\n",
    "\n",
    "Manchester Investment Advisors\t02/2023 – 11/2024\n",
    "Intern as python developer\tRoskilde, Denmark1\n",
    "Hired to streamline multiple processes handling over 15 billion BRL in assets at a high pressure and dynamic environment.\n",
    "•\tCollaborated with cross-functional teams to automate workflows, reducing manual input time by 2.5 hours weekly.\n",
    "•\tReduced licensing costs by 75% through access audits and account strategy, collaborating directly with Head of IT.\n",
    "•\tRedesigned key reporting and automation processes, accelerating delivery time by 50%, improving efficiency for 30 stockbrokers.\n",
    "\n",
    "Udesc Velociraptor BAJA SAE\t03/2022 – 11/2023\n",
    "Volunteer student as administrative manager\tJoinville, Brazil\n",
    "Managed operations in my university racing team, from business to project management, and race day operations.\n",
    "•\tImplemented organizational and business strategies, guaranteeing a 5th place in the management category.\n",
    "•\tLed cross-functional team of five to secure $50K in sponsorships from 27 companies, ensuring project viability.\n",
    "\n",
    "BMW Group2\t10/2021 – 12/2021\n",
    "Contract as warehousemen\tJoinville, Brazil\n",
    "•\tReduced stock inventory errors in 90% by analyzing past-emitted orders with stock systems.\n",
    "\n",
    "BMW Group\t02/2020 – 10/2021\n",
    "Apprentice as production mechanic\tAraquari, Brazil\n",
    "•\tLed a team of 22 apprentices, improving communication and resolving issues through collaboration with HR analyst.\n",
    "\n",
    "Education\n",
    "Udesc – Santa Catarina State University\t02/2022 – Present\n",
    "Bachelor’s: Production and systems engineering\tJoinville, Brazil\n",
    "\n",
    "Harvard\t08/2024\n",
    "Course: CS50’s Introduction to Databases with SQL\tRemote\n",
    "\n",
    "Harvard\t12/2023\n",
    "Course: CS50P introduction to programming with Python\tRemote\n",
    "\n",
    "SENAI – National Service of Apprenticeship\t02/2020 – 10/2021\n",
    "Professional education: Automotive production mechanic\tJoinville, Brazil\n",
    "\n",
    "SENAI – National Service of Apprenticeship\t02/2018 – 12/2019\n",
    "Technician: Automotive maintenance\tJoinville, Brazil\n",
    "\n",
    "\n",
    "# Cover Letter\n",
    "\n",
    "Dear Hiring Manager,\n",
    "Having spent a significant part of my early career at BMW, I’ve come to see it not just as a workplace, but as the environment where I want to grow, lead, and contribute long-term. I even turned down a promotion at a prestigious investment firm to return to the company, motivated by my ambition to one day take on a leadership role within BMW. Gaining experience in our global operations is the next strategic step on that path.\n",
    "What sets me apart is not just technical fluency, but the ability to connect it with business needs. At BMW, I develop tools used by directors, managers and analysts, collaborate in problem solving with colleagues across plants, support improvements that directly impact hundreds of employees. And previously, at an investment firm, I helped automate workflows supporting R$15B in assets, delivering results and increasing efficiency in a fast-paced, high-stakes environment.\n",
    "I also bring hands-on leadership. As administrative manager of my university’s BAJA SAE team, I secured R$50K in sponsorships and led our team to a national 5th place finish in management, among 60+ teams. That experience strengthened my skills in strategic thinking, communication, and performance under pressure.\n",
    "BMW’s culture of quality, high performance, innovation, and social responsibility aligns closely with my own values. I’d welcome the opportunity to contribute to your team and support the company’s objectives. Thank you for considering my application, please feel free to contact me via Teams, phone, or email.\n",
    "Best regards,\n",
    "Caio Pavesi\n",
    "\n",
    "\n",
    "# Recommendation 1\n",
    "\n",
    "To whom it may concern,\n",
    "It is with great enthusiasm that I recommend Caio Pavesi for a position at your organization. As the Talent Management team member at BMW Group Brasil, I have had the opportunity to closely observe Caio's exceptional performance and professional development during his internship with our company.\n",
    "Caio's communication skills are truly outstanding. He has demonstrated the ability to effectively engage with colleagues at all levels of the organization, from front-line team members to senior leadership. His clear and articulate communication style, coupled with his active listening skills, allow him to convey complex information with ease and build strong working relationships.\n",
    "Despite his young age, Caio exhibits a level of maturity and professionalism that is truly remarkable. He approaches his work with a good sense of responsibility, consistently delivering high-quality results and meeting deadlines with exceptional attention to detail. Caio's proactive nature and ability to take initiative have been invaluable assets, allowing him to contribute significantly to the success of various projects.\n",
    "I have no doubt that Caio's exceptional communication skills, mature demeanor, and proven track record of success will make him an invaluable addition to your organization. He is a driven, reliable, and highly capable individual who will undoubtedly thrive in a challenging and dynamic work environment.\n",
    "If you have any further questions or require additional information, please do not hesitate to contact me.\n",
    "April 17, 2025\n",
    "Sincerely,\n",
    "Milena Duarte\n",
    "\n",
    "# Recommendation 2\n",
    "\n",
    "To whom it may concern,\n",
    "I recommend Caio Pavesi, whom I supervised during his involvement in the UDESC Velociraptor BAJA SAE project. During this period, Caio stood out as a dedicated leader with strategic vision and the ability to make assertive decisions under pressure. His commitment to the success of the team was remarkable, having impacted on both task management and the anticipation and resolution of problems. This acts directly contributed for his team to achieve the 5th place in the Management category among more than 60 teams in the national competition, demonstrating his organisational ability and commitment to excellence. Although it was not his main responsibility, Caio was always present during the manufacturing and assembly phases of the vehicle, contributing in an efficient and proactive manner. His technical knowledge, combined with experience acquired at BMW and his complementary education in Automotive Maintenance and Manufacturing, added significant value to the development of the BAJA project. Moreover, his suggestions reflected innovative thinking and a deep understanding of industrial best practices. Beyond his technical skills, Caio communicates easily within his team. He was a key player in securing and renewing sponsorships with major companies such as SIKA, CISER, and SCHULZ, as well as strengthening partnerships with universities, demonstrating his ability to build and maintain strategic relationships. His communication skills transcend cultural and linguistic barriers, which became evident when he attracted and integrated European exchange students into the team. This was an unprecedented achievement in our 25 years of history. Given these qualities, I state, with full confidence that Caio Pavesi is an exceptional professional. His leadership, strategic vision, communication skills, and commitment to excellence make him a valuable asset to any organisation. I am certain that he will continue to stand out and make a positive impact wherever he goes.\n",
    "\n",
    "\n",
    "# Recommendation 3\n",
    "\n",
    "Dear Hiring Manager,\n",
    "We are pleased to write this letter of recommendation in support of Caio Pavesi. We have been working at the BMW Group for many years and we have had the opportunity to mentor several interns. We worked closely with Caio and we were able to observe and evaluate his performance firsthand.\n",
    "Caio has consistently demonstrated a commitment to excellence, quality, efficiency, and passion for our company. His proactive, analytical thinking and technical expertise across platforms like the Office Suite, Power Platform, programming languages, and many others have driven digitalization and automation projects across multiple departments at BMW.\n",
    "As an example, he developed multiple systems, processes, and dashboards to handle production data, streamline workflows, eliminate errors, and increase productivity. Caio's versatility and work ethic have made him a reference across our plant. He has supported colleagues both locally and internationally, and provided training to efficiently utilize complex systems and tools.\n",
    "Caio also has the ability to communicate ideas with clarity and confidence. His presentations frequently receive great feedback for their StrUCtUre, clarity, and engaging delivery. He is also a great team player, actively listening to ideas, committing to group decisions, and contributing wherever needed, whether in the office or on the factory floor, getting his hands dirty.\n",
    "We are confident that his technical competence, interpersonal skills, and dedication make him an exceptional professional who will support any role. If you have any questions, feel free to contact us via phone or email.```\n",
    "\n",
    "Evaluate how well this candidate matches the job. Consider:\n",
    "- **Skills and keywords:** Does the resume mention the hard/soft skills and tools listed in the JD?\n",
    "- **Role alignment:** Do the candidate’s past titles, responsibilities, and experience level fit the role?\n",
    "- **Achievements/Impact:** Does the candidate list quantified results or strong accomplishments?\n",
    "- **Education/Certifications:** Are the required degrees or certifications present?\n",
    "- **Industry/Company fit:** Has the candidate worked in this industry or similar companies?\n",
    "- **Language quality & structure:** Is the resume clear, free of typos/grammar errors, and well-formatted (not too cluttered)?\n",
    "- **Red flags:** Watch for frequent job changes, unexplained gaps, vague statements, or misalignments.\n",
    "\n",
    "**Output Requirements:**\n",
    "After your analysis, **output only valid JSON** with the following keys (no extra keys or explanation):\n",
    "```json\n",
    "{\n",
    "  \"score\": <integer 0–100>,                 // overall match (100 = perfect fit)\n",
    "  \"strengths\": \"<text>\",                   // key strengths (bullet list or concise summary)\n",
    "  \"weaknesses\": \"<text>\",                  // key weaknesses or gaps\n",
    "  \"improvement_points\": \"<text>\",          // suggestions to improve fit (skills or experience to add)\n",
    "  \"conclusion\": \"<text>\"                   // one-sentence verdict on fit (e.g. 'strong fit' or 'poor fit')\n",
    "}\n",
    "```\"\"\""
   ]
  },
  {
   "cell_type": "code",
   "execution_count": 45,
   "metadata": {},
   "outputs": [],
   "source": [
    "job_descriptions = pd.read_excel('/Users/caiopavesi/Code/bmw-job-matcher/data/bmw_jobs.xlsx')\n",
    "job_description = job_descriptions.loc[2, ('description')]"
   ]
  },
  {
   "cell_type": "code",
   "execution_count": 46,
   "metadata": {},
   "outputs": [
    {
     "data": {
      "text/plain": [
       "'EIN GUTES PRAKTIKUM IST PRAKTISCH NIE THEORETISCH.TEILE DEINE LEIDENSCHAFT.Erfolg ist Teamarbeit. Nur wenn Expert:innen ihr Fachwissen und ihre Begeisterung teilen, entsteht ein Workflow, in dem Ideen fließen. Das nennen wir Innovationskultur. Deshalb geben wir Studierenden bei uns nicht nur die Gelegenheit zum Zuhören, sondern vor allem auch zum Mitreden und Weiterdenken.\\xa0Wir, die BMW Group, bieten dir ein spannendes und abwechslungsreiches Praktikum im Bereich Software Entwicklung Autonomes Fahren.\\xa0Was erwartet dich?Im Rahmen deines Praktikums unterstützt du die Software-Entwicklung der Fahrassistenz für autonomes Fahren.Ferner erhältst du einen Einblick in die Prozesse der Software-Entwicklung, in das Fehlermanagement und in die Erprobung der Software.Darüber hinaus unterstützt du unser Team bei laufenden Softwareentwicklungsprojekten und kannst dabei vielfältige Erfahrungen in der direkten Zusammenarbeit mit der Projektleitung von Serien-Großprojekten und unseren Prozesspartner:innen sammeln.\\xa0Was bringst du mit?Studium der (Wirtschafts-)Informatik, des (Wirtschafts-)Ingenieurwesens, der Elektrotechnik, des Maschinenbaus oder ein vergleichbarer Studiengang.Zweite Hälfte Bachelorstudiengang oder Masterstudium.Erste praktische Erfahrung im Softwareentwicklungsbereich.Kenntnisse im Umgang mit C, C++ oder Python von Vorteil.Versierter Umgang mit MS Office und\\xa0Interesse an der Softwareentwicklung in der Automobil-Serienentwicklung.Team- und Kommunikationsfähigkeit sowie\\xa0Freude am eigenständiges\\xa0Arbeiten.\\xa0Du hast Spaß daran, Neues zu lernen und unsere Abteilung tatkräftig zu unterstützen? Bewirb dich jetzt!\\xa0Was bieten wir dir?Umfassendes Mentoring & Onboarding.Persönliche & fachliche Weiterentwicklung.Flexible Arbeitszeiten.Mobilarbeit.Attraktive & faire Vergütung.Apartments für Studierende (nach Verfügbarkeit & nur am Standort München).Und vieles mehr siehe\\xa0bmw.jobs/waswirbieten.\\xa0Startdatum: ab 18.08.2025Dauer: 6 MonateArbeitszeit:\\u200b\\xa0Vollzeit\\xa0\\xa0\\u200bDu hast Fragen? Dann reiche dein Anliegen ganz einfach über unser\\xa0Kontaktformular\\xa0ein. Deine Anfrage wird im Nachgang telefonisch oder per E-Mail beantwortet.\\xa0Bei der BMW Group ist uns Chancengleichheit ein besonderes Anliegen. Die Gleichbehandlung von Bewerber:innen sowie Mitarbeiter:innen ist ein grundlegendes Prinzip unserer Unternehmenspolitik. Daher basieren auch unsere Recruiting-Entscheidungen auf ihrer Persönlichkeit, ihren Erfahrungen und Fähigkeiten.Mehr Informationen\\xa0hier.'"
      ]
     },
     "execution_count": 46,
     "metadata": {},
     "output_type": "execute_result"
    }
   ],
   "source": [
    "job_description"
   ]
  },
  {
   "cell_type": "code",
   "execution_count": 47,
   "metadata": {},
   "outputs": [],
   "source": [
    "prompt = ChatPromptTemplate(\n",
    "    messages = [\n",
    "        (\"system\", \"You are a helpful assistant\"),\n",
    "        (\"user\", PROMPT_TEMPLATE_FILE_PATH.read_text())\n",
    "    ],\n",
    "    template_format = \"jinja2\"\n",
    ")\n",
    "\n",
    "prompt = prompt.format(\n",
    "    JOB_DESCRIPTION = job_description,\n",
    "    CANDIDATE_APPLICATION = documents)"
   ]
  },
  {
   "cell_type": "code",
   "execution_count": 48,
   "metadata": {},
   "outputs": [],
   "source": [
    "llm = ChatOllama(\n",
    "    model = \"llama3.2\",\n",
    "    temperature = 0.1,\n",
    "    format = \"json\",\n",
    ")"
   ]
  },
  {
   "cell_type": "code",
   "execution_count": 49,
   "metadata": {},
   "outputs": [],
   "source": [
    "response = llm.invoke(prompt)\n",
    "response2 = llm.invoke(text)"
   ]
  },
  {
   "cell_type": "code",
   "execution_count": 50,
   "metadata": {},
   "outputs": [
    {
     "data": {
      "text/plain": [
       "{'score': 70,\n",
       " 'strengths': ['Strong technical skills, particularly in manufacturing and materials science',\n",
       "  'Proven leadership experience as administrative manager of a university team',\n",
       "  'Excellent communication skills with ability to connect with diverse teams'],\n",
       " 'weaknesses': ['Limited direct experience in global operations or similar roles',\n",
       "  'No specific mention of innovation or R&D experience'],\n",
       " 'improvement_points': ['Consider adding more detail on global operations experience or relevant projects',\n",
       "  'Highlighting innovation or R&D skills would strengthen the application'],\n",
       " 'conclusion': 'A strong candidate with technical and leadership skills, but some gaps in direct experience for global operations roles'}"
      ]
     },
     "execution_count": 50,
     "metadata": {},
     "output_type": "execute_result"
    }
   ],
   "source": [
    "literal_eval(response.content)"
   ]
  },
  {
   "cell_type": "code",
   "execution_count": 51,
   "metadata": {},
   "outputs": [
    {
     "data": {
      "text/plain": [
       "{'score': 82,\n",
       " 'strengths': ['Strong technical skills, particularly in Excel, VBA, and Python',\n",
       "  'Proven experience in problem-solving and automation',\n",
       "  'Leadership and teamwork experience through various projects'],\n",
       " 'weaknesses': ['Limited direct experience in software development for autonomous driving',\n",
       "  \"No explicit mention of relevant certifications (e.g., CS50's Introduction to Databases)\"],\n",
       " 'improvement_points': ['Consider adding more specific details about software development experience and skills related to autonomous driving',\n",
       "  'Highlighting any additional certifications or training programs completed'],\n",
       " 'conclusion': 'Strong fit, with some areas for improvement in directly relevant technical skills and certifications'}"
      ]
     },
     "execution_count": 51,
     "metadata": {},
     "output_type": "execute_result"
    }
   ],
   "source": [
    "literal_eval(response2.content)"
   ]
  }
 ],
 "metadata": {
  "kernelspec": {
   "display_name": ".venv",
   "language": "python",
   "name": "python3"
  },
  "language_info": {
   "codemirror_mode": {
    "name": "ipython",
    "version": 3
   },
   "file_extension": ".py",
   "mimetype": "text/x-python",
   "name": "python",
   "nbconvert_exporter": "python",
   "pygments_lexer": "ipython3",
   "version": "3.13.0"
  }
 },
 "nbformat": 4,
 "nbformat_minor": 2
}
