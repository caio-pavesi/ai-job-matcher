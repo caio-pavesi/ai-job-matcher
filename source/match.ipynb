{
 "cells": [
  {
   "cell_type": "markdown",
   "metadata": {},
   "source": [
    "https://python.langchain.com/docs/tutorials/rag/\n",
    "</br>https://python.langchain.com/docs/integrations/text_embedding/\n",
    "</br>https://platform.openai.com/settings/organization/billing/overview"
   ]
  },
  {
   "cell_type": "code",
   "execution_count": 8,
   "metadata": {},
   "outputs": [],
   "source": [
    "import json\n",
    "\n",
    "from pathlib import Path\n",
    "\n",
    "import pandas as pd\n",
    "import pypdf as pdf\n",
    "\n",
    "from langchain.document_loaders import PyPDFLoader, DirectoryLoader\n",
    "from langchain_core.prompts.chat import PromptTemplate\n",
    "from langchain_openai import ChatOpenAI\n",
    "\n",
    "from settings import OPENAI_API_KEY"
   ]
  },
  {
   "cell_type": "code",
   "execution_count": 9,
   "metadata": {},
   "outputs": [],
   "source": [
    "PROMPT_TEMPLATE = Path('/Users/caiopavesi/Code/bmw-job-matcher/data/prompt.jinja').read_text()\n",
    "APPLICANT_DOCUMENTS_FILES_PATH = Path('/Users/caiopavesi/Library/Mobile Documents/com~apple~CloudDocs/0/Work/Job applications/Templates/Latest')"
   ]
  },
  {
   "cell_type": "code",
   "execution_count": 10,
   "metadata": {},
   "outputs": [],
   "source": [
    "loader = DirectoryLoader(APPLICANT_DOCUMENTS_FILES_PATH, glob = \"*.pdf\", loader_cls = PyPDFLoader)\n",
    "docs_content = loader.load()"
   ]
  },
  {
   "cell_type": "code",
   "execution_count": 11,
   "metadata": {},
   "outputs": [],
   "source": [
    "job_description = pd.read_excel('../data/bmw_jobs.xlsx').loc[0, ('description')]"
   ]
  },
  {
   "cell_type": "code",
   "execution_count": 12,
   "metadata": {},
   "outputs": [],
   "source": [
    "llm = ChatOpenAI(\n",
    "    model = \"gpt-4.1\",\n",
    "    temperature = 0,\n",
    "    api_key = OPENAI_API_KEY\n",
    ")"
   ]
  },
  {
   "cell_type": "code",
   "execution_count": 13,
   "metadata": {},
   "outputs": [],
   "source": [
    "prompt = PromptTemplate(\n",
    "    template = PROMPT_TEMPLATE,\n",
    "    template_format = \"jinja2\",\n",
    "    input_variables = [\"context\", \"question\"],\n",
    ")"
   ]
  },
  {
   "cell_type": "code",
   "execution_count": 14,
   "metadata": {},
   "outputs": [],
   "source": [
    "prompt = prompt.invoke({\"context\": docs_content, \"question\": job_description})"
   ]
  },
  {
   "cell_type": "code",
   "execution_count": 15,
   "metadata": {},
   "outputs": [],
   "source": [
    "answer = llm.invoke(prompt)"
   ]
  },
  {
   "cell_type": "code",
   "execution_count": 16,
   "metadata": {},
   "outputs": [],
   "source": [
    "rate = json.loads(answer.content)"
   ]
  },
  {
   "cell_type": "code",
   "execution_count": 17,
   "metadata": {},
   "outputs": [
    {
     "data": {
      "text/plain": [
       "{'score': 91.5,\n",
       " 'strengths': \"The candidate has a strong technical background in production and systems engineering, with direct and recent experience at BMW Group in roles involving operations, aftersales, and industrial engineering. He demonstrates advanced proficiency in MS Office (Excel, VBA), Power Platform, and Python, all of which are highly relevant to the role. His experience includes building forecasting tools, automating workflows, and developing dashboards, aligning well with the job's focus on controlling, reporting, and process improvement. He has proven leadership and communication skills, as evidenced by leading teams, managing projects, and securing sponsorships. Multiple recommendation letters highlight his maturity, initiative, and ability to work in international and cross-functional teams. He is fluent in English (C1), learning German, and has a high affinity for numbers, digitalization, and innovation.\",\n",
       " 'weaknesses': \"German language proficiency is at a beginner (A1) level, which may be a limitation for a role requiring 'verhandlungssichere' (business fluent) German. Direct experience in financial controlling is limited, though he has relevant coursework and some exposure to finance and reporting. Tableau experience is not explicitly mentioned.\",\n",
       " 'improvement_points': 'Accelerate German language learning to reach at least B2 level for better integration and communication. Gain hands-on experience with Tableau to cover all preferred technical skills. Seek more direct exposure to financial controlling processes if possible.',\n",
       " 'conclusion': 'The candidate is a top-tier fit for the BMW Group Controlling Financial Services Europe internship. His technical, analytical, and soft skills are highly aligned with the job requirements, and his prior BMW experience and strong recommendations make him a standout applicant. The only notable gap is German fluency, but his motivation and learning agility may compensate for this in an internship context.',\n",
       " 'interview': True}"
      ]
     },
     "execution_count": 17,
     "metadata": {},
     "output_type": "execute_result"
    }
   ],
   "source": [
    "rate"
   ]
  }
 ],
 "metadata": {
  "kernelspec": {
   "display_name": ".venv",
   "language": "python",
   "name": "python3"
  },
  "language_info": {
   "codemirror_mode": {
    "name": "ipython",
    "version": 3
   },
   "file_extension": ".py",
   "mimetype": "text/x-python",
   "name": "python",
   "nbconvert_exporter": "python",
   "pygments_lexer": "ipython3",
   "version": "3.13.0"
  }
 },
 "nbformat": 4,
 "nbformat_minor": 2
}
