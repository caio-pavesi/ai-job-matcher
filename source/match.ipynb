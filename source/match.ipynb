{
 "cells": [
  {
   "cell_type": "markdown",
   "metadata": {},
   "source": [
    "https://python.langchain.com/docs/tutorials/rag/\n",
    "</br>https://python.langchain.com/docs/integrations/text_embedding/\n",
    "</br>https://platform.openai.com/settings/organization/billing/overview"
   ]
  },
  {
   "cell_type": "code",
   "execution_count": 8,
   "metadata": {},
   "outputs": [],
   "source": [
    "import json\n",
    "\n",
    "from pathlib import Path\n",
    "\n",
    "import pandas as pd\n",
    "\n",
    "from langchain_chroma import Chroma\n",
    "\n",
    "from langchain_core.prompts.chat import PromptTemplate\n",
    "from langchain_openai import ChatOpenAI, OpenAIEmbeddings\n",
    "\n",
    "from langchain.document_loaders import PyPDFLoader\n",
    "from langchain.document_loaders import DirectoryLoader\n",
    "from langchain_text_splitters import RecursiveCharacterTextSplitter\n",
    "\n",
    "from settings import OPENAI_API_KEY"
   ]
  },
  {
   "cell_type": "markdown",
   "metadata": {},
   "source": [
    "# Loading docs"
   ]
  },
  {
   "cell_type": "code",
   "execution_count": 9,
   "metadata": {},
   "outputs": [],
   "source": [
    "PROMPT_TEMPLATE = Path('/Users/caiopavesi/Code/bmw-job-matcher/data/prompt.jinja').read_text()\n",
    "APPLICANT_DOCUMENTS_FILES_PATH = '/Users/caiopavesi/Library/Mobile Documents/com~apple~CloudDocs/0/Work/Job applications/Templates/Latest'"
   ]
  },
  {
   "cell_type": "code",
   "execution_count": 10,
   "metadata": {},
   "outputs": [],
   "source": [
    "llm = ChatOpenAI(\n",
    "    model = \"gpt-4.1\",\n",
    "    temperature = 0,\n",
    "    api_key = OPENAI_API_KEY\n",
    ")"
   ]
  },
  {
   "cell_type": "code",
   "execution_count": 11,
   "metadata": {},
   "outputs": [],
   "source": [
    "embeddings = OpenAIEmbeddings(model = \"text-embedding-3-large\")"
   ]
  },
  {
   "cell_type": "code",
   "execution_count": 12,
   "metadata": {},
   "outputs": [],
   "source": [
    "vector_store = Chroma(\n",
    "    collection_name = \"example_collection\",\n",
    "    embedding_function = embeddings,\n",
    "    persist_directory =  \"../data/chroma\",\n",
    ")"
   ]
  },
  {
   "cell_type": "code",
   "execution_count": 13,
   "metadata": {},
   "outputs": [],
   "source": [
    "text_splitter = RecursiveCharacterTextSplitter(\n",
    "    chunk_size = 1000,\n",
    "    chunk_overlap = 200,\n",
    "    add_start_index = True,\n",
    ")"
   ]
  },
  {
   "cell_type": "code",
   "execution_count": 14,
   "metadata": {},
   "outputs": [],
   "source": [
    "loader = DirectoryLoader(APPLICANT_DOCUMENTS_FILES_PATH, glob = \"*.pdf\", loader_cls = PyPDFLoader)\n",
    "documents = loader.load()\n",
    "all_splits = text_splitter.split_documents(documents)\n",
    "document_ids = vector_store.add_documents(documents = all_splits)"
   ]
  },
  {
   "cell_type": "markdown",
   "metadata": {},
   "source": [
    "# Creating the RAG"
   ]
  },
  {
   "cell_type": "code",
   "execution_count": 25,
   "metadata": {},
   "outputs": [],
   "source": [
    "prompt = PromptTemplate(\n",
    "    template = PROMPT_TEMPLATE,\n",
    "    template_format = \"jinja2\"\n",
    ")"
   ]
  },
  {
   "cell_type": "code",
   "execution_count": 16,
   "metadata": {},
   "outputs": [],
   "source": [
    "job_description = pd.read_excel('../data/bmw_jobs.xlsx').loc[3, ('description')]"
   ]
  },
  {
   "cell_type": "code",
   "execution_count": 17,
   "metadata": {},
   "outputs": [],
   "source": [
    "retrieved_docs = vector_store.similarity_search(prompt.template)"
   ]
  },
  {
   "cell_type": "code",
   "execution_count": 18,
   "metadata": {},
   "outputs": [],
   "source": [
    "docs_content = \"\\n\\n\".join(doc.page_content for doc in retrieved_docs)"
   ]
  },
  {
   "cell_type": "code",
   "execution_count": 19,
   "metadata": {},
   "outputs": [],
   "source": [
    "prompt = prompt.invoke({\"question\": job_description, \"context\": docs_content})\n",
    "answer = llm.invoke(prompt)"
   ]
  },
  {
   "cell_type": "code",
   "execution_count": 20,
   "metadata": {},
   "outputs": [],
   "source": [
    "rate = json.loads(answer.content)"
   ]
  },
  {
   "cell_type": "code",
   "execution_count": 21,
   "metadata": {},
   "outputs": [
    {
     "data": {
      "text/plain": [
       "{'score': 62.5,\n",
       " 'strengths': \"The candidate demonstrates strong leadership, project management, and communication skills, as evidenced by leading a university BAJA SAE team to a top national finish and securing significant sponsorships. Experience in process improvement and workflow automation in a high-stakes environment shows analytical ability and adaptability. The candidate expresses clear alignment with BMW's culture of innovation and quality.\",\n",
       " 'weaknesses': 'The application does not explicitly confirm enrollment in a relevant degree (Maschinenbau, Elektrotechnik, Mechatronik, Wirtschaftsingenieurwesen) or fluency in German, both of which are mandatory for the role. There is no mention of experience with AUTOCAD or direct exposure to quality planning, metrology, or e-mobility. The resume lacks detail on technical hard skills and specific academic background.',\n",
       " 'improvement_points': 'Explicitly state current field of study and confirm it matches the required disciplines. Highlight language proficiency in both German and English. Add any experience with AUTOCAD, 3D/2D design, or relevant engineering software. Provide more detail on technical coursework or projects related to quality, metrology, or e-mobility. Tailor the resume to emphasize analytical and process-oriented skills.',\n",
       " 'conclusion': 'The candidate shows strong soft skills, leadership, and cultural fit, but lacks clear evidence of meeting the baseline eligibility criteria (degree, language, technical skills) for this BMW internship. The application would benefit from more technical and academic detail. Human review is recommended to clarify eligibility and technical fit.',\n",
       " 'interview': False}"
      ]
     },
     "execution_count": 21,
     "metadata": {},
     "output_type": "execute_result"
    }
   ],
   "source": [
    "rate"
   ]
  }
 ],
 "metadata": {
  "kernelspec": {
   "display_name": ".venv",
   "language": "python",
   "name": "python3"
  },
  "language_info": {
   "codemirror_mode": {
    "name": "ipython",
    "version": 3
   },
   "file_extension": ".py",
   "mimetype": "text/x-python",
   "name": "python",
   "nbconvert_exporter": "python",
   "pygments_lexer": "ipython3",
   "version": "3.13.0"
  }
 },
 "nbformat": 4,
 "nbformat_minor": 2
}
