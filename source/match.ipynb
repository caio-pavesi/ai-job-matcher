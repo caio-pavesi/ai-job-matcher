{
 "cells": [
  {
   "cell_type": "markdown",
   "metadata": {},
   "source": [
    "https://github.com/marketplace/models/azure-openai/gpt-4-1"
   ]
  },
  {
   "cell_type": "code",
   "execution_count": 1,
   "metadata": {},
   "outputs": [],
   "source": [
    "import json\n",
    "from pathlib import Path\n",
    "\n",
    "import pandas as pd\n",
    "\n",
    "from jinja2 import Template\n",
    "from azure.ai.inference import ChatCompletionsClient\n",
    "from azure.ai.inference.models import SystemMessage, UserMessage\n",
    "from azure.core.credentials import AzureKeyCredential\n",
    "\n",
    "from settings import GITHUB_TOKEN"
   ]
  },
  {
   "cell_type": "markdown",
   "metadata": {},
   "source": [
    "# Defining the prompt"
   ]
  },
  {
   "cell_type": "code",
   "execution_count": 2,
   "metadata": {},
   "outputs": [],
   "source": [
    "PROMPT = Path('../data/prompt.jinja').read_text()"
   ]
  },
  {
   "cell_type": "code",
   "execution_count": 3,
   "metadata": {},
   "outputs": [],
   "source": [
    "# # ? - Test only\n",
    "job_descriptions = pd.read_excel('../data/bmw_jobs.xlsx')\n",
    "job_description = job_descriptions.loc[2, ('description')]"
   ]
  },
  {
   "cell_type": "code",
   "execution_count": 4,
   "metadata": {},
   "outputs": [],
   "source": [
    "candidate_application = Path('/Users/caiopavesi/Downloads/kb_me.txt').read_text()"
   ]
  },
  {
   "cell_type": "code",
   "execution_count": 5,
   "metadata": {},
   "outputs": [],
   "source": [
    "prompt = Template(PROMPT).render(job_description = job_description, candidate_application = candidate_application)"
   ]
  },
  {
   "cell_type": "markdown",
   "metadata": {},
   "source": [
    "# Calling the ai"
   ]
  },
  {
   "cell_type": "code",
   "execution_count": 6,
   "metadata": {},
   "outputs": [],
   "source": [
    "client = ChatCompletionsClient(\n",
    "    endpoint = \"https://models.github.ai/inference\",\n",
    "    credential = AzureKeyCredential(GITHUB_TOKEN),\n",
    ")"
   ]
  },
  {
   "cell_type": "code",
   "execution_count": 7,
   "metadata": {},
   "outputs": [],
   "source": [
    "response = client.complete(\n",
    "    messages = [\n",
    "        SystemMessage(\n",
    "            \"You are an Ai Agent of Talent Acquisition Specialist working as \"\n",
    "            \"Consultant for a candidate to help him find jobs where he has the \"\n",
    "            \"most chances of being called for an interview\"\n",
    "        ),\n",
    "        UserMessage(prompt),\n",
    "    ],\n",
    "    temperature = 0.1,\n",
    "    top_p = 1.0,\n",
    "    model = \"openai/gpt-4.1\",\n",
    "    response_format = \"json_object\",\n",
    ")"
   ]
  },
  {
   "cell_type": "code",
   "execution_count": 8,
   "metadata": {},
   "outputs": [],
   "source": [
    "result = json.loads(response.choices[0].message.content)"
   ]
  },
  {
   "cell_type": "code",
   "execution_count": 9,
   "metadata": {},
   "outputs": [
    {
     "data": {
      "text/plain": [
       "{'score': 92.5,\n",
       " 'strengths': 'The candidate has direct, recent, and multi-faceted experience with BMW, including internships in production, logistics, and industrial engineering. He demonstrates strong technical skills in Python, Excel, Power Platform, and SQL, all relevant to software development. He has proven leadership and project management experience, both in industry and extracurricular activities (SAE racing team). His education aligns with the requirements, and he has completed relevant coursework in programming and databases. Multiple recommendations highlight his communication, teamwork, adaptability, and initiative. He also shows a strong cultural fit and motivation for BMW.',\n",
       " 'weaknesses': 'Limited direct experience with C or C++ (though Python is present). German language skills are at a beginner level (A1), which may be a minor limitation for integration, though not a strict requirement for the role. No explicit mention of hands-on experience in automotive software development, but strong adjacent experience.',\n",
       " 'improvement_points': 'Consider gaining basic proficiency in C or C++ to further align with the preferred skills. Continue improving German language skills for better integration. Seek opportunities to participate in or contribute to automotive software projects, even at a small scale, to strengthen direct relevance.',\n",
       " 'conclusion': 'This is a top-tier application for the BMW Software Development Autonomous Driving internship. The candidate exceeds baseline requirements, demonstrates strong technical and soft skills, and has a proven track record at BMW. He should be fast-tracked for recruiter review and is highly likely to be called for an interview.',\n",
       " 'interview': True}"
      ]
     },
     "execution_count": 9,
     "metadata": {},
     "output_type": "execute_result"
    }
   ],
   "source": [
    "result"
   ]
  }
 ],
 "metadata": {
  "kernelspec": {
   "display_name": ".venv",
   "language": "python",
   "name": "python3"
  },
  "language_info": {
   "codemirror_mode": {
    "name": "ipython",
    "version": 3
   },
   "file_extension": ".py",
   "mimetype": "text/x-python",
   "name": "python",
   "nbconvert_exporter": "python",
   "pygments_lexer": "ipython3",
   "version": "3.13.0"
  }
 },
 "nbformat": 4,
 "nbformat_minor": 2
}
