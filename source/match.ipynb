{
 "cells": [
  {
   "cell_type": "markdown",
   "metadata": {},
   "source": [
    "https://python.langchain.com/docs/tutorials/rag/\n",
    "</br>https://python.langchain.com/docs/integrations/text_embedding/\n",
    "</br>https://platform.openai.com/settings/organization/billing/overview"
   ]
  },
  {
   "cell_type": "code",
   "execution_count": 36,
   "metadata": {},
   "outputs": [],
   "source": [
    "import json\n",
    "import sqlite3\n",
    "from pathlib import Path\n",
    "import pandas as pd\n",
    "from langchain.document_loaders import PyPDFLoader, DirectoryLoader\n",
    "from langchain_core.prompts.chat import PromptTemplate\n",
    "from langchain_openai import ChatOpenAI\n",
    "from settings import OPENAI_API_KEY\n",
    "from types_ import Application, ApplicationRating"
   ]
  },
  {
   "cell_type": "code",
   "execution_count": 37,
   "metadata": {},
   "outputs": [],
   "source": [
    "def stop_loop(iteration: int, limit: int) -> None:\n",
    "    \"\"\"Stops the loop if the iteration count reaches the limit, i dont want infinite loops or waste all my OPENAI credits because of them.\n",
    "    Args:\n",
    "        iteration (int): The current iteration count.\n",
    "        limit (int): The maximum number of iterations allowed.\n",
    "    Raises:\n",
    "        StopIteration: If the iteration count reaches the limit.\"\"\"\n",
    "    if iteration >= limit - 1:\n",
    "        raise StopIteration(\"Reached the limit of iterations.\")"
   ]
  },
  {
   "cell_type": "code",
   "execution_count": 38,
   "metadata": {},
   "outputs": [],
   "source": [
    "def evalueate_applicantion(\n",
    "        llm: ChatOpenAI,\n",
    "        prompt: str,\n",
    "        candidate_application: Application,\n",
    "        job_description: str,\n",
    "    ) -> ApplicationRating:\n",
    "    \"\"\"\n",
    "    Evaluate an applicant's documents against a job description using a language model.\n",
    "    Args:\n",
    "        llm (ChatOpenAI): The language model to use for evaluation.\n",
    "        applicant (Application): The applicant's documents, either a single Document or a list of Documents.\n",
    "        job_description (str): The job description to evaluate against.\n",
    "    Returns:\n",
    "        ApplicationRating: A dictionary containing the evaluation results, including a score and a recommendation.\n",
    "    \"\"\"\n",
    "\n",
    "    prompt = PromptTemplate(\n",
    "        template = prompt,\n",
    "        template_format = \"jinja2\",\n",
    "        input_variables = [\"candidate_application\", \"job_description\"],\n",
    "    ).invoke({\n",
    "        \"candidate_application\": candidate_application,\n",
    "        \"job_description\": job_description,\n",
    "    })\n",
    "\n",
    "    answer = llm.invoke(prompt)\n",
    "\n",
    "    return json.loads(answer.additional_kwargs['function_call']['arguments'])"
   ]
  },
  {
   "cell_type": "code",
   "execution_count": 39,
   "metadata": {},
   "outputs": [],
   "source": [
    "PROMPT_TEMPLATE = Path('/Users/caiopavesi/Code/bmw-job-matcher/data/prompt.jinja').read_text()\n",
    "APPLICANT_DOCUMENTS_FILES_PATH = Path('/Users/caiopavesi/Library/Mobile Documents/com~apple~CloudDocs/0/Work/Job applications/Templates/Latest')"
   ]
  },
  {
   "cell_type": "code",
   "execution_count": 40,
   "metadata": {},
   "outputs": [],
   "source": [
    "loader = DirectoryLoader(APPLICANT_DOCUMENTS_FILES_PATH, glob = \"*.pdf\", loader_cls = PyPDFLoader)\n",
    "docs_content = loader.load()"
   ]
  },
  {
   "cell_type": "code",
   "execution_count": 41,
   "metadata": {},
   "outputs": [],
   "source": [
    "function_schema = {\n",
    "    \"name\": \"assess_candidate_fit\",\n",
    "    \"description\": \"Evaluates candidate fit against job description and returns structured assessment.\",\n",
    "    \"parameters\": {\n",
    "        \"type\": \"object\",\n",
    "        \"properties\": {\n",
    "            \"match_score\": {\"type\": \"number\"},\n",
    "            \"match_strengths\": {\"type\": \"string\"},\n",
    "            \"match_weaknesses\": {\"type\": \"string\"},\n",
    "            \"match_improvement_points\": {\"type\": \"string\"},\n",
    "            \"match_conclusions\": {\"type\": \"string\"},\n",
    "            \"match_possible_interview\": {\"type\": \"boolean\"},\n",
    "        },\n",
    "        \"required\": [\n",
    "            \"match_score\",\n",
    "            \"match_strengths\",\n",
    "            \"match_weaknesses\",\n",
    "            \"match_improvement_points\",\n",
    "            \"match_conclusions\",\n",
    "            \"match_possible_interview\"\n",
    "        ],\n",
    "    },\n",
    "}"
   ]
  },
  {
   "cell_type": "code",
   "execution_count": 42,
   "metadata": {},
   "outputs": [],
   "source": [
    "llm = ChatOpenAI(\n",
    "    model_name = \"gpt-4o\",\n",
    "    temperature = 0.0,\n",
    "    api_key = OPENAI_API_KEY,\n",
    "    model_kwargs = {\n",
    "        \"functions\": [function_schema],\n",
    "        \"function_call\": {\"name\": \"assess_candidate_fit\"},\n",
    "    }\n",
    ")"
   ]
  },
  {
   "cell_type": "code",
   "execution_count": 43,
   "metadata": {},
   "outputs": [],
   "source": [
    "FILTER_QUERY = \"\"\"SELECT job_portal_id, job_description FROM jobs\n",
    "WHERE job_portal_id NOT IN\n",
    "(SELECT job_portal_id FROM matches);\"\"\""
   ]
  },
  {
   "cell_type": "code",
   "execution_count": 44,
   "metadata": {},
   "outputs": [],
   "source": [
    "INSERT_QUERY = \"\"\"INSERT INTO MATCHES (\n",
    "    job_portal_id,\n",
    "    match_score,\n",
    "    match_strengths,\n",
    "    match_weaknesses,\n",
    "    match_improvement_points,\n",
    "    match_conclusions,\n",
    "    match_possible_interview\n",
    ") VALUES (?, ?, ?, ?, ?, ?, ?)\n",
    "\"\"\""
   ]
  },
  {
   "cell_type": "code",
   "execution_count": 45,
   "metadata": {},
   "outputs": [],
   "source": [
    "query_search = lambda conn: pd.read_sql_query(FILTER_QUERY, conn).itertuples()\n",
    "# ? - Creation of a tuple with the values of the job_portal_id and the dictionary of rate\n",
    "query_params = lambda id, rate: (id, *[v for v in rate.values()])"
   ]
  },
  {
   "cell_type": "code",
   "execution_count": 46,
   "metadata": {},
   "outputs": [],
   "source": [
    "with sqlite3.connect('../data/jobs.db', autocommit = True) as connection:\n",
    "    for index, job_id, job_description in query_search(connection):\n",
    "        rate = evalueate_applicantion(llm, PROMPT_TEMPLATE, docs_content, job_description)\n",
    "        connection.execute(INSERT_QUERY, query_params(job_id, rate))\n",
    "\n",
    "        try:\n",
    "            stop_loop(index, 20)\n",
    "        except StopIteration as e:\n",
    "            break"
   ]
  }
 ],
 "metadata": {
  "kernelspec": {
   "display_name": ".venv",
   "language": "python",
   "name": "python3"
  },
  "language_info": {
   "codemirror_mode": {
    "name": "ipython",
    "version": 3
   },
   "file_extension": ".py",
   "mimetype": "text/x-python",
   "name": "python",
   "nbconvert_exporter": "python",
   "pygments_lexer": "ipython3",
   "version": "3.13.0"
  }
 },
 "nbformat": 4,
 "nbformat_minor": 2
}
