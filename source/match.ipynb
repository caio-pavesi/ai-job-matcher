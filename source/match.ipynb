{
 "cells": [
  {
   "cell_type": "markdown",
   "metadata": {},
   "source": [
    "https://python.langchain.com/docs/tutorials/rag/\n",
    "</br>https://python.langchain.com/docs/integrations/text_embedding/\n",
    "</br>https://platform.openai.com/settings/organization/billing/overview"
   ]
  },
  {
   "cell_type": "code",
   "execution_count": null,
   "metadata": {},
   "outputs": [],
   "source": [
    "import json\n",
    "\n",
    "from pathlib import Path\n",
    "\n",
    "import pandas as pd\n",
    "import pypdf as pdf\n",
    "\n",
    "from langchain_core.documents import Document\n",
    "from langchain.document_loaders import PyPDFLoader, DirectoryLoader\n",
    "from langchain_core.prompts.chat import PromptTemplate\n",
    "from langchain_openai import ChatOpenAI\n",
    "\n",
    "from settings import OPENAI_API_KEY"
   ]
  },
  {
   "cell_type": "code",
   "execution_count": 2,
   "metadata": {},
   "outputs": [],
   "source": [
    "PROMPT_TEMPLATE = Path('/Users/caiopavesi/Code/bmw-job-matcher/data/prompt.jinja').read_text()\n",
    "APPLICANT_DOCUMENTS_FILES_PATH = Path('/Users/caiopavesi/Library/Mobile Documents/com~apple~CloudDocs/0/Work/Job applications/Templates/Latest')"
   ]
  },
  {
   "cell_type": "code",
   "execution_count": 3,
   "metadata": {},
   "outputs": [],
   "source": [
    "loader = DirectoryLoader(APPLICANT_DOCUMENTS_FILES_PATH, glob = \"*.pdf\", loader_cls = PyPDFLoader)\n",
    "docs_content = loader.load()"
   ]
  },
  {
   "cell_type": "code",
   "execution_count": 6,
   "metadata": {},
   "outputs": [],
   "source": [
    "llm = ChatOpenAI(\n",
    "    model = \"gpt-4.1\",\n",
    "    temperature = 0,\n",
    "    api_key = OPENAI_API_KEY\n",
    ")"
   ]
  },
  {
   "cell_type": "code",
   "execution_count": 12,
   "metadata": {},
   "outputs": [],
   "source": [
    "job_descriptions = pd.read_excel('../data/bmw_jobs.xlsx')"
   ]
  },
  {
   "cell_type": "code",
   "execution_count": 19,
   "metadata": {},
   "outputs": [],
   "source": [
    "index = 56\n",
    "job_description = job_descriptions.loc[index, ('description')]"
   ]
  },
  {
   "cell_type": "code",
   "execution_count": 20,
   "metadata": {},
   "outputs": [],
   "source": [
    "prompt = PromptTemplate(\n",
    "    template = PROMPT_TEMPLATE,\n",
    "    template_format = \"jinja2\",\n",
    "    input_variables = [\"context\", \"question\"],\n",
    ")"
   ]
  },
  {
   "cell_type": "code",
   "execution_count": 21,
   "metadata": {},
   "outputs": [],
   "source": [
    "prompt = prompt.invoke({\"context\": docs_content, \"question\": job_description})"
   ]
  },
  {
   "cell_type": "code",
   "execution_count": 22,
   "metadata": {},
   "outputs": [],
   "source": [
    "answer = llm.invoke(prompt)"
   ]
  },
  {
   "cell_type": "code",
   "execution_count": 23,
   "metadata": {},
   "outputs": [],
   "source": [
    "rate = json.loads(answer.content)"
   ]
  },
  {
   "cell_type": "code",
   "execution_count": 24,
   "metadata": {},
   "outputs": [
    {
     "data": {
      "text/plain": [
       "{'score': 91.5,\n",
       " 'strengths': \"The candidate has a strong technical background in production and systems engineering, with direct and recent experience at BMW Group in multiple roles, including software-related tasks (Python, Power Platform, Excel/VBA, SQL). He has demonstrated hands-on project management, leadership, and cross-functional teamwork, as well as strong communication skills, as evidenced by multiple recommendation letters. His education is highly relevant, and he is in the advanced stages of his bachelor's degree, meeting the internship requirements. He also has international exposure and a clear motivation for the automotive sector and BMW specifically.\",\n",
       " 'weaknesses': 'Limited direct experience with C or C++ (though Python is well covered). German language skills are at a beginner level (A1), which may be a minor limitation for integration in some teams, though not a strict requirement. No explicit mention of experience in automotive series software development, but strong adjacent experience in industrial and process automation.',\n",
       " 'improvement_points': 'Consider gaining more hands-on experience with C/C++ to broaden software development capabilities. Continue improving German language proficiency to enhance integration and communication within the team. Seek opportunities to participate in more automotive-focused software projects if possible.',\n",
       " 'conclusion': 'The candidate is an excellent fit for the BMW Group Software Development Autonomous Driving internship. He meets and exceeds most requirements, brings relevant technical and soft skills, and demonstrates a strong cultural fit and motivation for the company. He should be fast-tracked for recruiter review.',\n",
       " 'interview': True}"
      ]
     },
     "execution_count": 24,
     "metadata": {},
     "output_type": "execute_result"
    }
   ],
   "source": [
    "rate"
   ]
  },
  {
   "cell_type": "code",
   "execution_count": null,
   "metadata": {},
   "outputs": [],
   "source": [
    "Application = Document | list[Document]\n",
    "\n",
    "def evalueate_applicantion(llm: ChatOpenAI, applicant: Application, job_description: str) -> dict[str, float | str | bool]:\n",
    "    \"\"\"\n",
    "    Evaluate an applicant's documents against a job description using a language model.\n",
    "    Args:\n",
    "        llm (ChatOpenAI): The language model to use for evaluation.\n",
    "        applicant (Application): The applicant's documents, either a single Document or a list of Documents.\n",
    "        job_description (str): The job description to evaluate against.\n",
    "    Returns:\n",
    "        dict[str, float | str | bool]: A dictionary containing the evaluation results, including a score and a recommendation.\n",
    "    \"\"\"\n",
    "\n",
    "    prompt = PromptTemplate(\n",
    "        template = PROMPT_TEMPLATE,\n",
    "        template_format = \"jinja2\",\n",
    "        input_variables = [\"context\", \"question\"],\n",
    "    )\n",
    "\n",
    "    prompt = prompt.invoke({\"context\": applicant, \"question\": job_description})\n",
    "\n",
    "    answer = llm.invoke(prompt)\n",
    "\n",
    "    return json.loads(answer.content)"
   ]
  }
 ],
 "metadata": {
  "kernelspec": {
   "display_name": ".venv",
   "language": "python",
   "name": "python3"
  },
  "language_info": {
   "codemirror_mode": {
    "name": "ipython",
    "version": 3
   },
   "file_extension": ".py",
   "mimetype": "text/x-python",
   "name": "python",
   "nbconvert_exporter": "python",
   "pygments_lexer": "ipython3",
   "version": "3.13.0"
  }
 },
 "nbformat": 4,
 "nbformat_minor": 2
}
